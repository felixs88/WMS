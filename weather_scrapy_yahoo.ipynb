{
 "cells": [
  {
   "cell_type": "code",
   "execution_count": 1,
   "metadata": {
    "collapsed": true,
    "deletable": true,
    "editable": true
   },
   "outputs": [],
   "source": [
    "from weather import Weather"
   ]
  },
  {
   "cell_type": "code",
   "execution_count": 4,
   "metadata": {
    "collapsed": false,
    "deletable": true,
    "editable": true
   },
   "outputs": [
    {
     "name": "stdout",
     "output_type": "stream",
     "text": [
      "{u'date': u'Tue, 05 Sep 2017 05:00 AM IST', u'text': u'Showers', u'code': u'11', u'temp': u'55'}\n"
     ]
    }
   ],
   "source": [
    "weather = Weather()\n",
    "lookup = weather.lookup(560743)\n",
    "condition = lookup.condition()\n",
    "print condition"
   ]
  },
  {
   "cell_type": "code",
   "execution_count": 6,
   "metadata": {
    "collapsed": false,
    "deletable": true,
    "editable": true
   },
   "outputs": [
    {
     "name": "stdout",
     "output_type": "stream",
     "text": [
      "{u'date': u'Tue, 05 Sep 2017 09:30 AM IST', u'text': u'Thunderstorms', u'code': u'4', u'temp': u'75'}\n"
     ]
    }
   ],
   "source": [
    "location = weather.lookup_by_location('bangalore')\n",
    "condition = location.condition()\n",
    "print condition"
   ]
  }
 ],
 "metadata": {
  "kernelspec": {
   "display_name": "Python 2",
   "language": "python",
   "name": "python2"
  },
  "language_info": {
   "codemirror_mode": {
    "name": "ipython",
    "version": 2
   },
   "file_extension": ".py",
   "mimetype": "text/x-python",
   "name": "python",
   "nbconvert_exporter": "python",
   "pygments_lexer": "ipython2",
   "version": "2.7.12"
  }
 },
 "nbformat": 4,
 "nbformat_minor": 2
}
