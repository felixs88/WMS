{
 "cells": [
  {
   "cell_type": "code",
   "execution_count": 2,
   "metadata": {
    "collapsed": false,
    "deletable": true,
    "editable": true
   },
   "outputs": [],
   "source": [
    "import requests\n",
    "from collections import defaultdict"
   ]
  },
  {
   "cell_type": "code",
   "execution_count": 3,
   "metadata": {
    "collapsed": false,
    "deletable": true,
    "editable": true
   },
   "outputs": [
    {
     "name": "stdout",
     "output_type": "stream",
     "text": [
      "https://www.theweathernetwork.com/in/api/location/search?searchText=Goa\n"
     ]
    }
   ],
   "source": [
    "search_text = \"Goa\"\n",
    "base_url = \"https://www.theweathernetwork.com/in/api/location/search?searchText={}\".format(search_text)\n",
    "print base_url"
   ]
  },
  {
   "cell_type": "code",
   "execution_count": 4,
   "metadata": {
    "collapsed": false,
    "deletable": true,
    "editable": true
   },
   "outputs": [],
   "source": [
    "req = requests.get(base_url)\n",
    "url = req.json()[0]['url']\n",
    "code = req.json()[0]['code']\n",
    "\n",
    "data = req.json()\n",
    "ddict = defaultdict(list)\n",
    "for i in data:\n",
    "    if ddict[i[\"countrycode\"]]:\n",
    "        ddict[i[\"countrycode\"]].append(i)\n",
    "    else:\n",
    "        ddict[i[\"countrycode\"]] = []\n",
    "        ddict[i[\"countrycode\"]].append(i)\n",
    "\n",
    "info_urls = []        \n",
    "        \n",
    "for k in ddict[\"IN\"]:\n",
    "    if k[\"name\"] == search_text.title():\n",
    "        # info_urls.append(\"https://www.theweathernetwork.com{}\".format(k['url']))\n",
    "        info_urls.append(k['code'])       "
   ]
  },
  {
   "cell_type": "code",
   "execution_count": 5,
   "metadata": {
    "collapsed": false,
    "deletable": true,
    "editable": true
   },
   "outputs": [
    {
     "name": "stdout",
     "output_type": "stream",
     "text": [
      "https://www.theweathernetwork.com/in/api/savedlocation/index/?placecodes=inga0231\n",
      "Wed Sep 6 2:08 PM\n"
     ]
    }
   ],
   "source": [
    "if info_urls:\n",
    "    data = \"https://www.theweathernetwork.com/in/api/savedlocation/index/?placecodes={}\".format(info_urls[0])\n",
    "    print data\n",
    "    url_req = requests.get(data)\n",
    "    temperature = url_req.json()[0]['temperature']\n",
    "    feels_like = url_req.json()[0]['feels_like']\n",
    "    updated = url_req.json()[0]['updatetime']\n",
    "    print updated"
   ]
  }
 ],
 "metadata": {
  "kernelspec": {
   "display_name": "Python 2",
   "language": "python",
   "name": "python2"
  },
  "language_info": {
   "codemirror_mode": {
    "name": "ipython",
    "version": 2
   },
   "file_extension": ".py",
   "mimetype": "text/x-python",
   "name": "python",
   "nbconvert_exporter": "python",
   "pygments_lexer": "ipython2",
   "version": "2.7.12"
  }
 },
 "nbformat": 4,
 "nbformat_minor": 2
}
