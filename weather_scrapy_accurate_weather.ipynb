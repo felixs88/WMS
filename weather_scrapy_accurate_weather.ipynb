{
 "cells": [
  {
   "cell_type": "markdown",
   "metadata": {
    "deletable": true,
    "editable": true
   },
   "source": [
    "#### API Key for Accurate weather RA7hnB70OGesVqxv2AKCiuaFpQVLcQsR"
   ]
  },
  {
   "cell_type": "code",
   "execution_count": 2,
   "metadata": {
    "collapsed": false,
    "deletable": true,
    "editable": true
   },
   "outputs": [],
   "source": [
    "import requests\n",
    "import urllib2\n",
    "import re\n",
    "import pandas as pd\n",
    "from bs4 import BeautifulSoup\n",
    "from scrapy import Selector\n",
    "from scrapy.selector import HtmlXPathSelector"
   ]
  },
  {
   "cell_type": "code",
   "execution_count": 4,
   "metadata": {
    "collapsed": false,
    "deletable": true,
    "editable": true
   },
   "outputs": [],
   "source": [
    "base_url = \"https://www.accuweather.com/en/in/bangalore/1-204108_1_al/current-weather/1-204108_1_al\"\n",
    "\n",
    "base_links = [\"https://www.accuweather.com/en/in/bangalore/1-204108_1_al/daily-weather-forecast/1-204108_1_al?day={}\".format(i) for i in range(1, 6)]"
   ]
  },
  {
   "cell_type": "code",
   "execution_count": 6,
   "metadata": {
    "collapsed": false,
    "deletable": true,
    "editable": true
   },
   "outputs": [
    {
     "name": "stdout",
     "output_type": "stream",
     "text": [
      "[('Today', 'Sep 6', '28', '21C', 'A thunderstorm this afternoon'), ('Thu', 'Sep 7', '28', '21', 'A heavy afternoon t-storm'), ('Fri', 'Sep 8', '28', '21', 'A thunderstorm in spots'), ('Sat', 'Sep 9', '28', '21', 'A thunderstorm in the area'), ('Sun', 'Sep 10', '27', '20', 'A p.m. t-storm in spots')]\n"
     ]
    },
    {
     "name": "stderr",
     "output_type": "stream",
     "text": [
      "/usr/local/lib/python2.7/dist-packages/ipykernel/__main__.py:10: ScrapyDeprecationWarning: scrapy.selector.HtmlXPathSelector is deprecated, instantiate scrapy.Selector instead.\n"
     ]
    }
   ],
   "source": [
    "req = urllib2.Request(base_url)\n",
    "read_url = urllib2.urlopen(req)\n",
    "response = read_url.read()\n",
    "soup = BeautifulSoup(response, \"lxml\")\n",
    "\n",
    "five_day_data = soup.find_all(\"li\", attrs={'data-href': base_links})\n",
    "column_header = ('Day', 'Date', 'real_feel', 'precipitation', 'description')\n",
    "data = []\n",
    "for day in five_day_data:\n",
    "    hxs = HtmlXPathSelector(day).xpath(\"/html/body/p/text()\").extract()\n",
    "    doc = \"\"\"{}\"\"\".format(hxs[0].encode(\"utf-8\"))\n",
    "    each_day = re.sub(\"\\n+\",\n",
    "                      \",\",\n",
    "                      doc.decode(\"unicode_escape\").encode(\"ascii\", \"ignore\").replace(\"/\", \"\").replace(\"More\", \"\")\n",
    "                     )\n",
    "    data.append(filter(None, tuple(each_day.split(\",\"))))   \n",
    "print data"
   ]
  },
  {
   "cell_type": "code",
   "execution_count": null,
   "metadata": {
    "collapsed": false,
    "deletable": true,
    "editable": true
   },
   "outputs": [],
   "source": []
  }
 ],
 "metadata": {
  "kernelspec": {
   "display_name": "Python 2",
   "language": "python",
   "name": "python2"
  },
  "language_info": {
   "codemirror_mode": {
    "name": "ipython",
    "version": 2
   },
   "file_extension": ".py",
   "mimetype": "text/x-python",
   "name": "python",
   "nbconvert_exporter": "python",
   "pygments_lexer": "ipython2",
   "version": "2.7.12"
  }
 },
 "nbformat": 4,
 "nbformat_minor": 2
}
