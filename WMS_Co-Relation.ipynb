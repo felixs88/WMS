{
 "cells": [
  {
   "cell_type": "markdown",
   "metadata": {
    "collapsed": true,
    "deletable": true,
    "editable": true
   },
   "source": [
    "#### Correlation Coefficient Formula\n",
    "\n",
    "$ r =  {\\dfrac{n(\\sum_{xy}) - (\\sum_{x})\\thinspace(\\sum_{y})}{\\sqrt{[n\\sum_{x^2}\\thinspace-\\thinspace(\\sum_{x})^2]\\thinspace\\thinspace[n\\sum_{y^2}-\\thinspace(\\sum_{y})^2] }}}$\n",
    "\n",
    "$1 pascal = {\\dfrac{N}{m^2}} = {\\dfrac{kg}{ms^2}}$\n",
    "\n",
    "$N \\thinspace\\thinspace - Newtons \\\\ m \\thinspace\\thinspace - Meter \\\\ kg - Kilogram \\\\ s \\thinspace\\thinspace - Seconds$"
   ]
  },
  {
   "cell_type": "code",
   "execution_count": 280,
   "metadata": {
    "collapsed": true
   },
   "outputs": [],
   "source": [
    "%matplotlib inline\n",
    "\n",
    "import pandas as pd\n",
    "import numpy as np\n",
    "\n",
    "import matplotlib.pyplot as plt\n",
    "from matplotlib import mlab\n",
    "from matplotlib.dates import DateFormatter\n",
    "import matplotlib.dates as mdates "
   ]
  },
  {
   "cell_type": "code",
   "execution_count": 281,
   "metadata": {
    "collapsed": false,
    "deletable": true,
    "editable": true
   },
   "outputs": [
    {
     "data": {
      "text/html": [
       "<div>\n",
       "<table border=\"1\" class=\"dataframe\">\n",
       "  <thead>\n",
       "    <tr style=\"text-align: right;\">\n",
       "      <th></th>\n",
       "      <th>client_id</th>\n",
       "      <th>date</th>\n",
       "      <th>time</th>\n",
       "      <th>temparature</th>\n",
       "      <th>pressure</th>\n",
       "      <th>humidity</th>\n",
       "      <th>wind_speed</th>\n",
       "      <th>wind_direction</th>\n",
       "      <th>rain</th>\n",
       "    </tr>\n",
       "  </thead>\n",
       "  <tbody>\n",
       "    <tr>\n",
       "      <th>0</th>\n",
       "      <td>10101</td>\n",
       "      <td>2016-10-13</td>\n",
       "      <td>12:48:16</td>\n",
       "      <td>2747</td>\n",
       "      <td>91061.0</td>\n",
       "      <td>4265.0</td>\n",
       "      <td>1</td>\n",
       "      <td>150.0</td>\n",
       "      <td>111111.0</td>\n",
       "    </tr>\n",
       "    <tr>\n",
       "      <th>1</th>\n",
       "      <td>10101</td>\n",
       "      <td>2016-10-13</td>\n",
       "      <td>12:54:56</td>\n",
       "      <td>2747</td>\n",
       "      <td>91035.0</td>\n",
       "      <td>4275.0</td>\n",
       "      <td>7.14</td>\n",
       "      <td>40.0</td>\n",
       "      <td>111111.0</td>\n",
       "    </tr>\n",
       "    <tr>\n",
       "      <th>2</th>\n",
       "      <td>10101</td>\n",
       "      <td>2016-10-13</td>\n",
       "      <td>12:57:16</td>\n",
       "      <td>2747</td>\n",
       "      <td>91044.0</td>\n",
       "      <td>4258.0</td>\n",
       "      <td>8.83</td>\n",
       "      <td>335.0</td>\n",
       "      <td>111111.0</td>\n",
       "    </tr>\n",
       "    <tr>\n",
       "      <th>3</th>\n",
       "      <td>10101</td>\n",
       "      <td>2016-10-13</td>\n",
       "      <td>12:59:26</td>\n",
       "      <td>2747</td>\n",
       "      <td>91040.0</td>\n",
       "      <td>7253.0</td>\n",
       "      <td>9.38</td>\n",
       "      <td>330.0</td>\n",
       "      <td>111111.0</td>\n",
       "    </tr>\n",
       "    <tr>\n",
       "      <th>4</th>\n",
       "      <td>10101</td>\n",
       "      <td>2016-10-13</td>\n",
       "      <td>13:06:16</td>\n",
       "      <td>2747</td>\n",
       "      <td>91022.0</td>\n",
       "      <td>4252.0</td>\n",
       "      <td>6.24</td>\n",
       "      <td>185.0</td>\n",
       "      <td>111111.0</td>\n",
       "    </tr>\n",
       "  </tbody>\n",
       "</table>\n",
       "</div>"
      ],
      "text/plain": [
       "   client_id        date      time temparature  pressure  humidity wind_speed  \\\n",
       "0      10101  2016-10-13  12:48:16        2747   91061.0    4265.0          1   \n",
       "1      10101  2016-10-13  12:54:56        2747   91035.0    4275.0       7.14   \n",
       "2      10101  2016-10-13  12:57:16        2747   91044.0    4258.0       8.83   \n",
       "3      10101  2016-10-13  12:59:26        2747   91040.0    7253.0       9.38   \n",
       "4      10101  2016-10-13  13:06:16        2747   91022.0    4252.0       6.24   \n",
       "\n",
       "   wind_direction      rain  \n",
       "0           150.0  111111.0  \n",
       "1            40.0  111111.0  \n",
       "2           335.0  111111.0  \n",
       "3           330.0  111111.0  \n",
       "4           185.0  111111.0  "
      ]
     },
     "execution_count": 281,
     "metadata": {},
     "output_type": "execute_result"
    }
   ],
   "source": [
    "df = pd.read_csv(\"wms.csv\", sep=\",\")\n",
    "df.columns = [\n",
    "    \"client_id\",\n",
    "    \"date\",\n",
    "    \"time\",\n",
    "    \"temparature\",\n",
    "    \"pressure\",\n",
    "    \"humidity\",\n",
    "    \"wind_speed\",\n",
    "    \"wind_direction\",\n",
    "    \"rain\",\n",
    "]\n",
    "df.replace(\"wwww\", 0)\n",
    "df.head(5)"
   ]
  },
  {
   "cell_type": "code",
   "execution_count": 282,
   "metadata": {
    "collapsed": false,
    "deletable": true,
    "editable": true
   },
   "outputs": [
    {
     "data": {
      "text/plain": [
       "(1678, 9)"
      ]
     },
     "execution_count": 282,
     "metadata": {},
     "output_type": "execute_result"
    }
   ],
   "source": [
    "df.shape"
   ]
  },
  {
   "cell_type": "code",
   "execution_count": 283,
   "metadata": {
    "collapsed": false,
    "deletable": true,
    "editable": true
   },
   "outputs": [
    {
     "data": {
      "text/plain": [
       "client_id           int64\n",
       "date               object\n",
       "time               object\n",
       "temparature        object\n",
       "pressure          float64\n",
       "humidity          float64\n",
       "wind_speed         object\n",
       "wind_direction    float64\n",
       "rain              float64\n",
       "dtype: object"
      ]
     },
     "execution_count": 283,
     "metadata": {},
     "output_type": "execute_result"
    }
   ],
   "source": [
    "df.dtypes"
   ]
  },
  {
   "cell_type": "code",
   "execution_count": 284,
   "metadata": {
    "collapsed": false,
    "deletable": true,
    "editable": true
   },
   "outputs": [
    {
     "data": {
      "text/html": [
       "<div>\n",
       "<table border=\"1\" class=\"dataframe\">\n",
       "  <thead>\n",
       "    <tr style=\"text-align: right;\">\n",
       "      <th></th>\n",
       "      <th>client_id</th>\n",
       "      <th>pressure</th>\n",
       "      <th>humidity</th>\n",
       "      <th>wind_direction</th>\n",
       "      <th>rain</th>\n",
       "    </tr>\n",
       "  </thead>\n",
       "  <tbody>\n",
       "    <tr>\n",
       "      <th>count</th>\n",
       "      <td>1678.0</td>\n",
       "      <td>1668.000000</td>\n",
       "      <td>1678.000000</td>\n",
       "      <td>1678.000000</td>\n",
       "      <td>1677.000000</td>\n",
       "    </tr>\n",
       "    <tr>\n",
       "      <th>mean</th>\n",
       "      <td>10101.0</td>\n",
       "      <td>111061.177050</td>\n",
       "      <td>4721.179118</td>\n",
       "      <td>152.473021</td>\n",
       "      <td>80394.888849</td>\n",
       "    </tr>\n",
       "    <tr>\n",
       "      <th>std</th>\n",
       "      <td>0.0</td>\n",
       "      <td>101565.629728</td>\n",
       "      <td>949.395945</td>\n",
       "      <td>296.495726</td>\n",
       "      <td>46368.228269</td>\n",
       "    </tr>\n",
       "    <tr>\n",
       "      <th>min</th>\n",
       "      <td>10101.0</td>\n",
       "      <td>1.000000</td>\n",
       "      <td>-699.000000</td>\n",
       "      <td>-3.000000</td>\n",
       "      <td>0.000000</td>\n",
       "    </tr>\n",
       "    <tr>\n",
       "      <th>25%</th>\n",
       "      <td>10101.0</td>\n",
       "      <td>91031.750000</td>\n",
       "      <td>4474.000000</td>\n",
       "      <td>1.000000</td>\n",
       "      <td>11111.000000</td>\n",
       "    </tr>\n",
       "    <tr>\n",
       "      <th>50%</th>\n",
       "      <td>10101.0</td>\n",
       "      <td>91175.000000</td>\n",
       "      <td>4563.000000</td>\n",
       "      <td>192.000000</td>\n",
       "      <td>111111.000000</td>\n",
       "    </tr>\n",
       "    <tr>\n",
       "      <th>75%</th>\n",
       "      <td>10101.0</td>\n",
       "      <td>91272.000000</td>\n",
       "      <td>5657.000000</td>\n",
       "      <td>282.000000</td>\n",
       "      <td>111111.000000</td>\n",
       "    </tr>\n",
       "    <tr>\n",
       "      <th>max</th>\n",
       "      <td>10101.0</td>\n",
       "      <td>599109.000000</td>\n",
       "      <td>7253.000000</td>\n",
       "      <td>11111.000000</td>\n",
       "      <td>111111.000000</td>\n",
       "    </tr>\n",
       "  </tbody>\n",
       "</table>\n",
       "</div>"
      ],
      "text/plain": [
       "       client_id       pressure     humidity  wind_direction           rain\n",
       "count     1678.0    1668.000000  1678.000000     1678.000000    1677.000000\n",
       "mean     10101.0  111061.177050  4721.179118      152.473021   80394.888849\n",
       "std          0.0  101565.629728   949.395945      296.495726   46368.228269\n",
       "min      10101.0       1.000000  -699.000000       -3.000000       0.000000\n",
       "25%      10101.0   91031.750000  4474.000000        1.000000   11111.000000\n",
       "50%      10101.0   91175.000000  4563.000000      192.000000  111111.000000\n",
       "75%      10101.0   91272.000000  5657.000000      282.000000  111111.000000\n",
       "max      10101.0  599109.000000  7253.000000    11111.000000  111111.000000"
      ]
     },
     "execution_count": 284,
     "metadata": {},
     "output_type": "execute_result"
    }
   ],
   "source": [
    "df.describe()"
   ]
  },
  {
   "cell_type": "code",
   "execution_count": 285,
   "metadata": {
    "collapsed": false,
    "deletable": true,
    "editable": true
   },
   "outputs": [],
   "source": [
    "temp = []\n",
    "for i in df.temparature:\n",
    "    a = \"{:4}\".format(i)\n",
    "    b = str(\"{}.{}\".format(a[:2], a[2:]))\n",
    "    temp.append(b)"
   ]
  },
  {
   "cell_type": "code",
   "execution_count": 286,
   "metadata": {
    "collapsed": true,
    "deletable": true,
    "editable": true
   },
   "outputs": [],
   "source": [
    "df.temparature = pd.Series(temp)"
   ]
  },
  {
   "cell_type": "code",
   "execution_count": 287,
   "metadata": {
    "collapsed": false,
    "deletable": true,
    "editable": true
   },
   "outputs": [
    {
     "data": {
      "text/html": [
       "<div>\n",
       "<table border=\"1\" class=\"dataframe\">\n",
       "  <thead>\n",
       "    <tr style=\"text-align: right;\">\n",
       "      <th></th>\n",
       "      <th>client_id</th>\n",
       "      <th>date</th>\n",
       "      <th>time</th>\n",
       "      <th>temparature</th>\n",
       "      <th>pressure</th>\n",
       "      <th>humidity</th>\n",
       "      <th>wind_speed</th>\n",
       "      <th>wind_direction</th>\n",
       "      <th>rain</th>\n",
       "    </tr>\n",
       "  </thead>\n",
       "  <tbody>\n",
       "    <tr>\n",
       "      <th>0</th>\n",
       "      <td>10101</td>\n",
       "      <td>2016-10-13</td>\n",
       "      <td>12:48:16</td>\n",
       "      <td>27.47</td>\n",
       "      <td>91061.0</td>\n",
       "      <td>4265.0</td>\n",
       "      <td>1</td>\n",
       "      <td>150.0</td>\n",
       "      <td>111111.0</td>\n",
       "    </tr>\n",
       "    <tr>\n",
       "      <th>1</th>\n",
       "      <td>10101</td>\n",
       "      <td>2016-10-13</td>\n",
       "      <td>12:54:56</td>\n",
       "      <td>27.47</td>\n",
       "      <td>91035.0</td>\n",
       "      <td>4275.0</td>\n",
       "      <td>7.14</td>\n",
       "      <td>40.0</td>\n",
       "      <td>111111.0</td>\n",
       "    </tr>\n",
       "    <tr>\n",
       "      <th>2</th>\n",
       "      <td>10101</td>\n",
       "      <td>2016-10-13</td>\n",
       "      <td>12:57:16</td>\n",
       "      <td>27.47</td>\n",
       "      <td>91044.0</td>\n",
       "      <td>4258.0</td>\n",
       "      <td>8.83</td>\n",
       "      <td>335.0</td>\n",
       "      <td>111111.0</td>\n",
       "    </tr>\n",
       "    <tr>\n",
       "      <th>3</th>\n",
       "      <td>10101</td>\n",
       "      <td>2016-10-13</td>\n",
       "      <td>12:59:26</td>\n",
       "      <td>27.47</td>\n",
       "      <td>91040.0</td>\n",
       "      <td>7253.0</td>\n",
       "      <td>9.38</td>\n",
       "      <td>330.0</td>\n",
       "      <td>111111.0</td>\n",
       "    </tr>\n",
       "    <tr>\n",
       "      <th>4</th>\n",
       "      <td>10101</td>\n",
       "      <td>2016-10-13</td>\n",
       "      <td>13:06:16</td>\n",
       "      <td>27.47</td>\n",
       "      <td>91022.0</td>\n",
       "      <td>4252.0</td>\n",
       "      <td>6.24</td>\n",
       "      <td>185.0</td>\n",
       "      <td>111111.0</td>\n",
       "    </tr>\n",
       "  </tbody>\n",
       "</table>\n",
       "</div>"
      ],
      "text/plain": [
       "   client_id        date      time temparature  pressure  humidity wind_speed  \\\n",
       "0      10101  2016-10-13  12:48:16       27.47   91061.0    4265.0          1   \n",
       "1      10101  2016-10-13  12:54:56       27.47   91035.0    4275.0       7.14   \n",
       "2      10101  2016-10-13  12:57:16       27.47   91044.0    4258.0       8.83   \n",
       "3      10101  2016-10-13  12:59:26       27.47   91040.0    7253.0       9.38   \n",
       "4      10101  2016-10-13  13:06:16       27.47   91022.0    4252.0       6.24   \n",
       "\n",
       "   wind_direction      rain  \n",
       "0           150.0  111111.0  \n",
       "1            40.0  111111.0  \n",
       "2           335.0  111111.0  \n",
       "3           330.0  111111.0  \n",
       "4           185.0  111111.0  "
      ]
     },
     "execution_count": 287,
     "metadata": {},
     "output_type": "execute_result"
    }
   ],
   "source": [
    "df.head(5)"
   ]
  },
  {
   "cell_type": "markdown",
   "metadata": {},
   "source": [
    "#### Maximum value of Pressure based on date"
   ]
  },
  {
   "cell_type": "code",
   "execution_count": 288,
   "metadata": {
    "collapsed": false
   },
   "outputs": [
    {
     "data": {
      "text/html": [
       "<div>\n",
       "<table border=\"1\" class=\"dataframe\">\n",
       "  <thead>\n",
       "    <tr style=\"text-align: right;\">\n",
       "      <th></th>\n",
       "      <th>date</th>\n",
       "      <th>client_id</th>\n",
       "      <th>time</th>\n",
       "      <th>temparature</th>\n",
       "      <th>pressure</th>\n",
       "      <th>humidity</th>\n",
       "      <th>wind_speed</th>\n",
       "      <th>wind_direction</th>\n",
       "      <th>rain</th>\n",
       "    </tr>\n",
       "  </thead>\n",
       "  <tbody>\n",
       "    <tr>\n",
       "      <th>0</th>\n",
       "      <td>2002-11-16</td>\n",
       "      <td>10101</td>\n",
       "      <td>18:43:34</td>\n",
       "      <td>27.47</td>\n",
       "      <td>91186.0</td>\n",
       "      <td>5657.0</td>\n",
       "      <td>0</td>\n",
       "      <td>80.0</td>\n",
       "      <td>111111.0</td>\n",
       "    </tr>\n",
       "    <tr>\n",
       "      <th>1</th>\n",
       "      <td>2016-10-13</td>\n",
       "      <td>10101</td>\n",
       "      <td>18:32:04</td>\n",
       "      <td>27.47</td>\n",
       "      <td>91061.0</td>\n",
       "      <td>7253.0</td>\n",
       "      <td>9.89</td>\n",
       "      <td>355.0</td>\n",
       "      <td>111111.0</td>\n",
       "    </tr>\n",
       "    <tr>\n",
       "      <th>2</th>\n",
       "      <td>2016-10-18</td>\n",
       "      <td>10101</td>\n",
       "      <td>21:14:30</td>\n",
       "      <td>27.91</td>\n",
       "      <td>91118.0</td>\n",
       "      <td>4295.0</td>\n",
       "      <td>9.89</td>\n",
       "      <td>355.0</td>\n",
       "      <td>111111.0</td>\n",
       "    </tr>\n",
       "    <tr>\n",
       "      <th>3</th>\n",
       "      <td>2016-10-25</td>\n",
       "      <td>10101</td>\n",
       "      <td>16:22:01</td>\n",
       "      <td>28.06</td>\n",
       "      <td>91288.0</td>\n",
       "      <td>3578.0</td>\n",
       "      <td>9.94</td>\n",
       "      <td>335.0</td>\n",
       "      <td>111111.0</td>\n",
       "    </tr>\n",
       "    <tr>\n",
       "      <th>4</th>\n",
       "      <td>2016-10-26</td>\n",
       "      <td>10101</td>\n",
       "      <td>04:52:35</td>\n",
       "      <td>27.49</td>\n",
       "      <td>91057.0</td>\n",
       "      <td>3450.0</td>\n",
       "      <td>wwww</td>\n",
       "      <td>15.1</td>\n",
       "      <td>111111.0</td>\n",
       "    </tr>\n",
       "  </tbody>\n",
       "</table>\n",
       "</div>"
      ],
      "text/plain": [
       "         date  client_id      time temparature  pressure  humidity wind_speed  \\\n",
       "0  2002-11-16      10101  18:43:34       27.47   91186.0    5657.0          0   \n",
       "1  2016-10-13      10101  18:32:04       27.47   91061.0    7253.0       9.89   \n",
       "2  2016-10-18      10101  21:14:30       27.91   91118.0    4295.0       9.89   \n",
       "3  2016-10-25      10101  16:22:01       28.06   91288.0    3578.0       9.94   \n",
       "4  2016-10-26      10101  04:52:35       27.49   91057.0    3450.0       wwww   \n",
       "\n",
       "   wind_direction      rain  \n",
       "0            80.0  111111.0  \n",
       "1           355.0  111111.0  \n",
       "2           355.0  111111.0  \n",
       "3           335.0  111111.0  \n",
       "4            15.1  111111.0  "
      ]
     },
     "execution_count": 288,
     "metadata": {},
     "output_type": "execute_result"
    }
   ],
   "source": [
    "df_max = df.groupby(['date'], axis=0,).max().reset_index()\n",
    "df_max.head(n=5)"
   ]
  },
  {
   "cell_type": "code",
   "execution_count": 289,
   "metadata": {
    "collapsed": false
   },
   "outputs": [
    {
     "data": {
      "image/png": "[encoded data removed]",
      "text/plain": [
       "<matplotlib.figure.Figure at 0x7fe30b081790>"
      ]
     },
     "metadata": {},
     "output_type": "display_data"
    }
   ],
   "source": [
    "max_pres = [float(\"{:2.2f}\".format(i)) for i in df_max.pressure]\n",
    "max_date = [i for i in df_max.date]\n",
    "\n",
    "fig, ax = plt.subplots(figsize=(16, 5))\n",
    "max_date = mdates.datestr2num(max_date)\n",
    "ax.plot(max_date, max_pres)\n",
    "ax.grid(True)\n",
    "ax.legend(loc='right')\n",
    "ax.set_title('Maximum Pressure Value based on Date')\n",
    "ax.set_xlabel('Date')\n",
    "ax.set_ylabel('Pressure(pascal)')\n",
    "\n",
    "plt.show()"
   ]
  },
  {
   "cell_type": "markdown",
   "metadata": {
    "collapsed": false,
    "deletable": true,
    "editable": true
   },
   "source": [
    "#### Minimum value of Pressure based on date"
   ]
  },
  {
   "cell_type": "code",
   "execution_count": 290,
   "metadata": {
    "collapsed": false,
    "deletable": true,
    "editable": true
   },
   "outputs": [
    {
     "data": {
      "text/html": [
       "<div>\n",
       "<table border=\"1\" class=\"dataframe\">\n",
       "  <thead>\n",
       "    <tr style=\"text-align: right;\">\n",
       "      <th></th>\n",
       "      <th>date</th>\n",
       "      <th>client_id</th>\n",
       "      <th>time</th>\n",
       "      <th>temparature</th>\n",
       "      <th>pressure</th>\n",
       "      <th>humidity</th>\n",
       "      <th>wind_speed</th>\n",
       "      <th>wind_direction</th>\n",
       "      <th>rain</th>\n",
       "    </tr>\n",
       "  </thead>\n",
       "  <tbody>\n",
       "    <tr>\n",
       "      <th>0</th>\n",
       "      <td>2002-11-16</td>\n",
       "      <td>10101</td>\n",
       "      <td>18:24:49</td>\n",
       "      <td>26.41</td>\n",
       "      <td>91138.00</td>\n",
       "      <td>4625.0</td>\n",
       "      <td>0</td>\n",
       "      <td>-1.0</td>\n",
       "      <td>111111.0</td>\n",
       "    </tr>\n",
       "    <tr>\n",
       "      <th>1</th>\n",
       "      <td>2016-10-13</td>\n",
       "      <td>10101</td>\n",
       "      <td>11:01:00</td>\n",
       "      <td>26.00</td>\n",
       "      <td>90020.00</td>\n",
       "      <td>4037.0</td>\n",
       "      <td>1</td>\n",
       "      <td>5.0</td>\n",
       "      <td>111111.0</td>\n",
       "    </tr>\n",
       "    <tr>\n",
       "      <th>2</th>\n",
       "      <td>2016-10-18</td>\n",
       "      <td>10101</td>\n",
       "      <td>12:19:35</td>\n",
       "      <td>25.75</td>\n",
       "      <td>90700.00</td>\n",
       "      <td>20.0</td>\n",
       "      <td>1</td>\n",
       "      <td>5.0</td>\n",
       "      <td>111111.0</td>\n",
       "    </tr>\n",
       "    <tr>\n",
       "      <th>3</th>\n",
       "      <td>2016-10-25</td>\n",
       "      <td>10101</td>\n",
       "      <td>03:05:48</td>\n",
       "      <td>27.47</td>\n",
       "      <td>78597.00</td>\n",
       "      <td>3450.0</td>\n",
       "      <td>1</td>\n",
       "      <td>0.0</td>\n",
       "      <td>111111.0</td>\n",
       "    </tr>\n",
       "    <tr>\n",
       "      <th>4</th>\n",
       "      <td>2016-10-26</td>\n",
       "      <td>10101</td>\n",
       "      <td>00:51:41</td>\n",
       "      <td>27.</td>\n",
       "      <td>910.32</td>\n",
       "      <td>34.5</td>\n",
       "      <td>0</td>\n",
       "      <td>0.0</td>\n",
       "      <td>111111.0</td>\n",
       "    </tr>\n",
       "  </tbody>\n",
       "</table>\n",
       "</div>"
      ],
      "text/plain": [
       "         date  client_id      time temparature  pressure  humidity wind_speed  \\\n",
       "0  2002-11-16      10101  18:24:49       26.41  91138.00    4625.0          0   \n",
       "1  2016-10-13      10101  11:01:00       26.00  90020.00    4037.0          1   \n",
       "2  2016-10-18      10101  12:19:35       25.75  90700.00      20.0          1   \n",
       "3  2016-10-25      10101  03:05:48       27.47  78597.00    3450.0          1   \n",
       "4  2016-10-26      10101  00:51:41       27.      910.32      34.5          0   \n",
       "\n",
       "   wind_direction      rain  \n",
       "0            -1.0  111111.0  \n",
       "1             5.0  111111.0  \n",
       "2             5.0  111111.0  \n",
       "3             0.0  111111.0  \n",
       "4             0.0  111111.0  "
      ]
     },
     "execution_count": 290,
     "metadata": {},
     "output_type": "execute_result"
    }
   ],
   "source": [
    "df_min = df.groupby(['date'], axis=0,).min().reset_index()\n",
    "df_min.head(n=5)"
   ]
  },
  {
   "cell_type": "code",
   "execution_count": 291,
   "metadata": {
    "collapsed": false,
    "deletable": true,
    "editable": true
   },
   "outputs": [
    {
     "data": {
      "image/png": "[encoded data removed]",
      "text/plain": [
       "<matplotlib.figure.Figure at 0x7fe30aed9710>"
      ]
     },
     "metadata": {},
     "output_type": "display_data"
    }
   ],
   "source": [
    "min_pres = [float(\"{:2.2f}\".format(i)) for i in df_min.pressure]\n",
    "min_date = [i for i in df_min.date]\n",
    "\n",
    "fig, ax = plt.subplots(figsize=(16, 5))\n",
    "min_date = mdates.datestr2num(min_date)\n",
    "ax.plot(min_date, min_pres)\n",
    "ax.grid(True)\n",
    "ax.legend(loc='right')\n",
    "ax.set_title('Minimum Pressure Value based on Date')\n",
    "ax.set_xlabel('Date')\n",
    "ax.set_ylabel('Pressure(pascal)')\n",
    "\n",
    "plt.show()"
   ]
  },
  {
   "cell_type": "markdown",
   "metadata": {},
   "source": [
    "#### Average(Mean) value of Pressure based on date"
   ]
  },
  {
   "cell_type": "code",
   "execution_count": 294,
   "metadata": {
    "collapsed": false
   },
   "outputs": [
    {
     "data": {
      "text/html": [
       "<div>\n",
       "<table border=\"1\" class=\"dataframe\">\n",
       "  <thead>\n",
       "    <tr style=\"text-align: right;\">\n",
       "      <th></th>\n",
       "      <th>date</th>\n",
       "      <th>client_id</th>\n",
       "      <th>pressure</th>\n",
       "      <th>humidity</th>\n",
       "      <th>wind_direction</th>\n",
       "      <th>rain</th>\n",
       "    </tr>\n",
       "  </thead>\n",
       "  <tbody>\n",
       "    <tr>\n",
       "      <th>0</th>\n",
       "      <td>2002-11-16</td>\n",
       "      <td>10101</td>\n",
       "      <td>91164.666667</td>\n",
       "      <td>5243.291667</td>\n",
       "      <td>9.083333</td>\n",
       "      <td>111111.0</td>\n",
       "    </tr>\n",
       "    <tr>\n",
       "      <th>1</th>\n",
       "      <td>2016-10-13</td>\n",
       "      <td>10101</td>\n",
       "      <td>90937.226415</td>\n",
       "      <td>4496.471698</td>\n",
       "      <td>167.547170</td>\n",
       "      <td>111111.0</td>\n",
       "    </tr>\n",
       "    <tr>\n",
       "      <th>2</th>\n",
       "      <td>2016-10-18</td>\n",
       "      <td>10101</td>\n",
       "      <td>90918.172414</td>\n",
       "      <td>3788.327586</td>\n",
       "      <td>179.224138</td>\n",
       "      <td>111111.0</td>\n",
       "    </tr>\n",
       "    <tr>\n",
       "      <th>3</th>\n",
       "      <td>2016-10-25</td>\n",
       "      <td>10101</td>\n",
       "      <td>90898.241935</td>\n",
       "      <td>3452.677419</td>\n",
       "      <td>187.338710</td>\n",
       "      <td>111111.0</td>\n",
       "    </tr>\n",
       "    <tr>\n",
       "      <th>4</th>\n",
       "      <td>2016-10-26</td>\n",
       "      <td>10101</td>\n",
       "      <td>90217.083214</td>\n",
       "      <td>3419.504464</td>\n",
       "      <td>6.741071</td>\n",
       "      <td>111111.0</td>\n",
       "    </tr>\n",
       "  </tbody>\n",
       "</table>\n",
       "</div>"
      ],
      "text/plain": [
       "         date  client_id      pressure     humidity  wind_direction      rain\n",
       "0  2002-11-16      10101  91164.666667  5243.291667        9.083333  111111.0\n",
       "1  2016-10-13      10101  90937.226415  4496.471698      167.547170  111111.0\n",
       "2  2016-10-18      10101  90918.172414  3788.327586      179.224138  111111.0\n",
       "3  2016-10-25      10101  90898.241935  3452.677419      187.338710  111111.0\n",
       "4  2016-10-26      10101  90217.083214  3419.504464        6.741071  111111.0"
      ]
     },
     "execution_count": 294,
     "metadata": {},
     "output_type": "execute_result"
    }
   ],
   "source": [
    "df_mean = df.groupby(['date'], axis=0).mean().reset_index()\n",
    "df_mean.head(5)"
   ]
  },
  {
   "cell_type": "code",
   "execution_count": 295,
   "metadata": {
    "collapsed": false
   },
   "outputs": [
    {
     "data": {
      "image/png": "[encoded data removed]",
      "text/plain": [
       "<matplotlib.figure.Figure at 0x7fe30b658150>"
      ]
     },
     "metadata": {},
     "output_type": "display_data"
    }
   ],
   "source": [
    "mean_pres = [float(\"{:2.2f}\".format(i)) for i in df_mean.pressure]\n",
    "mean_date = [i for i in df_mean.date]\n",
    "\n",
    "fig, ax = plt.subplots(figsize=(16, 5))\n",
    "mean_date = mdates.datestr2num(mean_date)\n",
    "ax.plot(mean_date, mean_pres)\n",
    "ax.grid(True)\n",
    "ax.legend(loc='right')\n",
    "ax.set_title('Minimum Pressure Value based on Date')\n",
    "ax.set_xlabel('Date')\n",
    "ax.set_ylabel('Pressure(pascal)')\n",
    "\n",
    "plt.show()"
   ]
  },
  {
   "cell_type": "markdown",
   "metadata": {},
   "source": [
    "#### Temparature vs Pressure"
   ]
  },
  {
   "cell_type": "code",
   "execution_count": 330,
   "metadata": {
    "collapsed": false
   },
   "outputs": [
    {
     "data": {
      "text/html": [
       "<div>\n",
       "<table border=\"1\" class=\"dataframe\">\n",
       "  <thead>\n",
       "    <tr style=\"text-align: right;\">\n",
       "      <th></th>\n",
       "      <th>client_id</th>\n",
       "      <th>date</th>\n",
       "      <th>time</th>\n",
       "      <th>temparature</th>\n",
       "      <th>pressure</th>\n",
       "      <th>humidity</th>\n",
       "      <th>wind_speed</th>\n",
       "      <th>wind_direction</th>\n",
       "      <th>rain</th>\n",
       "    </tr>\n",
       "  </thead>\n",
       "  <tbody>\n",
       "    <tr>\n",
       "      <th>0</th>\n",
       "      <td>10101</td>\n",
       "      <td>2016-10-13</td>\n",
       "      <td>12:48:16</td>\n",
       "      <td>27.47</td>\n",
       "      <td>91061.0</td>\n",
       "      <td>4265.0</td>\n",
       "      <td>1</td>\n",
       "      <td>150.0</td>\n",
       "      <td>111111.0</td>\n",
       "    </tr>\n",
       "    <tr>\n",
       "      <th>1</th>\n",
       "      <td>10101</td>\n",
       "      <td>2016-10-13</td>\n",
       "      <td>12:54:56</td>\n",
       "      <td>27.47</td>\n",
       "      <td>91035.0</td>\n",
       "      <td>4275.0</td>\n",
       "      <td>7.14</td>\n",
       "      <td>40.0</td>\n",
       "      <td>111111.0</td>\n",
       "    </tr>\n",
       "    <tr>\n",
       "      <th>2</th>\n",
       "      <td>10101</td>\n",
       "      <td>2016-10-13</td>\n",
       "      <td>12:57:16</td>\n",
       "      <td>27.47</td>\n",
       "      <td>91044.0</td>\n",
       "      <td>4258.0</td>\n",
       "      <td>8.83</td>\n",
       "      <td>335.0</td>\n",
       "      <td>111111.0</td>\n",
       "    </tr>\n",
       "    <tr>\n",
       "      <th>3</th>\n",
       "      <td>10101</td>\n",
       "      <td>2016-10-13</td>\n",
       "      <td>12:59:26</td>\n",
       "      <td>27.47</td>\n",
       "      <td>91040.0</td>\n",
       "      <td>7253.0</td>\n",
       "      <td>9.38</td>\n",
       "      <td>330.0</td>\n",
       "      <td>111111.0</td>\n",
       "    </tr>\n",
       "    <tr>\n",
       "      <th>4</th>\n",
       "      <td>10101</td>\n",
       "      <td>2016-10-13</td>\n",
       "      <td>13:06:16</td>\n",
       "      <td>27.47</td>\n",
       "      <td>91022.0</td>\n",
       "      <td>4252.0</td>\n",
       "      <td>6.24</td>\n",
       "      <td>185.0</td>\n",
       "      <td>111111.0</td>\n",
       "    </tr>\n",
       "  </tbody>\n",
       "</table>\n",
       "</div>"
      ],
      "text/plain": [
       "   client_id        date      time temparature  pressure  humidity wind_speed  \\\n",
       "0      10101  2016-10-13  12:48:16       27.47   91061.0    4265.0          1   \n",
       "1      10101  2016-10-13  12:54:56       27.47   91035.0    4275.0       7.14   \n",
       "2      10101  2016-10-13  12:57:16       27.47   91044.0    4258.0       8.83   \n",
       "3      10101  2016-10-13  12:59:26       27.47   91040.0    7253.0       9.38   \n",
       "4      10101  2016-10-13  13:06:16       27.47   91022.0    4252.0       6.24   \n",
       "\n",
       "   wind_direction      rain  \n",
       "0           150.0  111111.0  \n",
       "1            40.0  111111.0  \n",
       "2           335.0  111111.0  \n",
       "3           330.0  111111.0  \n",
       "4           185.0  111111.0  "
      ]
     },
     "execution_count": 330,
     "metadata": {},
     "output_type": "execute_result"
    }
   ],
   "source": [
    "df = df[df > 0].dropna()\n",
    "df.head(5)"
   ]
  },
  {
   "cell_type": "code",
   "execution_count": 332,
   "metadata": {
    "collapsed": true
   },
   "outputs": [],
   "source": [
    "tmp = []\n",
    "for i in df.temparature:\n",
    "    tmp.append(float(i))"
   ]
  },
  {
   "cell_type": "code",
   "execution_count": 357,
   "metadata": {
    "collapsed": false
   },
   "outputs": [
    {
     "data": {
      "image/png": "[encoded data removed]",
      "text/plain": [
       "<matplotlib.figure.Figure at 0x7fe30a87e110>"
      ]
     },
     "metadata": {},
     "output_type": "display_data"
    }
   ],
   "source": [
    "temparture = [float(\"{:2.2f}\".format(i)) for i in tmp]\n",
    "pressure = [float(\"{:2.2f}\".format(i)) for i in df.pressure]\n",
    "\n",
    "fig, ax = plt.subplots(figsize=(16, 5))\n",
    "ax.plot(sorted(pressure), temparture, )\n",
    "ax.grid(True)\n",
    "ax.legend(loc='right')\n",
    "ax.set_title('Temparature vs Pressure')\n",
    "ax.set_xlabel('Pressure(pascal)')\n",
    "ax.set_ylabel('Temparature(Celsius)')\n",
    "\n",
    "plt.show()"
   ]
  }
 ],
 "metadata": {
  "kernelspec": {
   "display_name": "Python 2",
   "language": "python",
   "name": "python2"
  },
  "language_info": {
   "codemirror_mode": {
    "name": "ipython",
    "version": 2
   },
   "file_extension": ".py",
   "mimetype": "text/x-python",
   "name": "python",
   "nbconvert_exporter": "python",
   "pygments_lexer": "ipython2",
   "version": "2.7.12"
  }
 },
 "nbformat": 4,
 "nbformat_minor": 2
}
