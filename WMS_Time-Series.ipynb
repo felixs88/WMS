{
 "cells": [
  {
   "cell_type": "code",
   "execution_count": 1,
   "metadata": {
    "collapsed": true,
    "deletable": true,
    "editable": true
   },
   "outputs": [],
   "source": [
    "%matplotlib inline\n",
    "\n",
    "import pandas as pd\n",
    "import numpy as np\n",
    "\n",
    "import matplotlib.pyplot as plt\n",
    "from matplotlib import mlab\n",
    "from matplotlib.dates import DateFormatter\n",
    "import matplotlib.dates as mdates"
   ]
  },
  {
   "cell_type": "code",
   "execution_count": 68,
   "metadata": {
    "collapsed": true,
    "deletable": true,
    "editable": true
   },
   "outputs": [],
   "source": [
    "df = pd.read_csv(\"wms.csv\", sep=\",\")\n",
    "df.columns = [\n",
    "    \"client_id\",\n",
    "    \"date\",\n",
    "    \"time\",\n",
    "    \"temparature\",\n",
    "    \"pressure\",\n",
    "    \"humidity\",\n",
    "    \"wind_speed\",\n",
    "    \"wind_direction\",\n",
    "    \"rain\",\n",
    "]"
   ]
  },
  {
   "cell_type": "code",
   "execution_count": 69,
   "metadata": {
    "collapsed": false,
    "deletable": true,
    "editable": true
   },
   "outputs": [],
   "source": [
    "df.wind_speed = df.wind_speed.replace(\"wwww\", \"0\")"
   ]
  },
  {
   "cell_type": "code",
   "execution_count": 70,
   "metadata": {
    "collapsed": false,
    "deletable": true,
    "editable": true
   },
   "outputs": [],
   "source": [
    "df.wind_speed = df.wind_speed.astype(float).head(n=5)"
   ]
  },
  {
   "cell_type": "code",
   "execution_count": 71,
   "metadata": {
    "collapsed": false,
    "deletable": true,
    "editable": true
   },
   "outputs": [
    {
     "data": {
      "text/html": [
       "<div>\n",
       "<table border=\"1\" class=\"dataframe\">\n",
       "  <thead>\n",
       "    <tr style=\"text-align: right;\">\n",
       "      <th></th>\n",
       "      <th>client_id</th>\n",
       "      <th>date</th>\n",
       "      <th>time</th>\n",
       "      <th>temparature</th>\n",
       "      <th>pressure</th>\n",
       "      <th>humidity</th>\n",
       "      <th>wind_speed</th>\n",
       "      <th>wind_direction</th>\n",
       "      <th>rain</th>\n",
       "    </tr>\n",
       "  </thead>\n",
       "  <tbody>\n",
       "    <tr>\n",
       "      <th>0</th>\n",
       "      <td>10101</td>\n",
       "      <td>2016-10-13</td>\n",
       "      <td>12:48:16</td>\n",
       "      <td>2747.0</td>\n",
       "      <td>91061.0</td>\n",
       "      <td>4265.0</td>\n",
       "      <td>1.00</td>\n",
       "      <td>150.0</td>\n",
       "      <td>111111.0</td>\n",
       "    </tr>\n",
       "    <tr>\n",
       "      <th>1</th>\n",
       "      <td>10101</td>\n",
       "      <td>2016-10-13</td>\n",
       "      <td>12:54:56</td>\n",
       "      <td>2747.0</td>\n",
       "      <td>91035.0</td>\n",
       "      <td>4275.0</td>\n",
       "      <td>7.14</td>\n",
       "      <td>40.0</td>\n",
       "      <td>111111.0</td>\n",
       "    </tr>\n",
       "    <tr>\n",
       "      <th>2</th>\n",
       "      <td>10101</td>\n",
       "      <td>2016-10-13</td>\n",
       "      <td>12:57:16</td>\n",
       "      <td>2747.0</td>\n",
       "      <td>91044.0</td>\n",
       "      <td>4258.0</td>\n",
       "      <td>8.83</td>\n",
       "      <td>335.0</td>\n",
       "      <td>111111.0</td>\n",
       "    </tr>\n",
       "    <tr>\n",
       "      <th>3</th>\n",
       "      <td>10101</td>\n",
       "      <td>2016-10-13</td>\n",
       "      <td>12:59:26</td>\n",
       "      <td>2747.0</td>\n",
       "      <td>91040.0</td>\n",
       "      <td>7253.0</td>\n",
       "      <td>9.38</td>\n",
       "      <td>330.0</td>\n",
       "      <td>111111.0</td>\n",
       "    </tr>\n",
       "    <tr>\n",
       "      <th>4</th>\n",
       "      <td>10101</td>\n",
       "      <td>2016-10-13</td>\n",
       "      <td>13:06:16</td>\n",
       "      <td>2747.0</td>\n",
       "      <td>91022.0</td>\n",
       "      <td>4252.0</td>\n",
       "      <td>6.24</td>\n",
       "      <td>185.0</td>\n",
       "      <td>111111.0</td>\n",
       "    </tr>\n",
       "  </tbody>\n",
       "</table>\n",
       "</div>"
      ],
      "text/plain": [
       "   client_id        date      time  temparature  pressure  humidity  \\\n",
       "0      10101  2016-10-13  12:48:16       2747.0   91061.0    4265.0   \n",
       "1      10101  2016-10-13  12:54:56       2747.0   91035.0    4275.0   \n",
       "2      10101  2016-10-13  12:57:16       2747.0   91044.0    4258.0   \n",
       "3      10101  2016-10-13  12:59:26       2747.0   91040.0    7253.0   \n",
       "4      10101  2016-10-13  13:06:16       2747.0   91022.0    4252.0   \n",
       "\n",
       "   wind_speed  wind_direction      rain  \n",
       "0        1.00           150.0  111111.0  \n",
       "1        7.14            40.0  111111.0  \n",
       "2        8.83           335.0  111111.0  \n",
       "3        9.38           330.0  111111.0  \n",
       "4        6.24           185.0  111111.0  "
      ]
     },
     "execution_count": 71,
     "metadata": {},
     "output_type": "execute_result"
    }
   ],
   "source": [
    "df.head(5)"
   ]
  },
  {
   "cell_type": "code",
   "execution_count": 72,
   "metadata": {
    "collapsed": false,
    "deletable": true,
    "editable": true
   },
   "outputs": [],
   "source": [
    "df[['temparature', 'pressure', 'humidity', 'wind_speed', 'wind_direction', 'rain']] = df[['temparature', 'pressure', 'humidity', 'wind_speed', 'wind_direction', 'rain']].apply(pd.to_numeric)"
   ]
  },
  {
   "cell_type": "code",
   "execution_count": 73,
   "metadata": {
    "collapsed": false,
    "deletable": true,
    "editable": true
   },
   "outputs": [
    {
     "data": {
      "text/html": [
       "<div>\n",
       "<table border=\"1\" class=\"dataframe\">\n",
       "  <thead>\n",
       "    <tr style=\"text-align: right;\">\n",
       "      <th></th>\n",
       "      <th>client_id</th>\n",
       "      <th>temparature</th>\n",
       "      <th>pressure</th>\n",
       "      <th>humidity</th>\n",
       "      <th>wind_speed</th>\n",
       "      <th>wind_direction</th>\n",
       "      <th>rain</th>\n",
       "    </tr>\n",
       "  </thead>\n",
       "  <tbody>\n",
       "    <tr>\n",
       "      <th>count</th>\n",
       "      <td>1678.0</td>\n",
       "      <td>1677.000000</td>\n",
       "      <td>1668.000000</td>\n",
       "      <td>1678.000000</td>\n",
       "      <td>5.0000</td>\n",
       "      <td>1678.000000</td>\n",
       "      <td>1677.000000</td>\n",
       "    </tr>\n",
       "    <tr>\n",
       "      <th>mean</th>\n",
       "      <td>10101.0</td>\n",
       "      <td>2568.403101</td>\n",
       "      <td>111061.177050</td>\n",
       "      <td>4721.179118</td>\n",
       "      <td>6.5180</td>\n",
       "      <td>152.473021</td>\n",
       "      <td>80394.888849</td>\n",
       "    </tr>\n",
       "    <tr>\n",
       "      <th>std</th>\n",
       "      <td>0.0</td>\n",
       "      <td>541.269877</td>\n",
       "      <td>101565.629728</td>\n",
       "      <td>949.395945</td>\n",
       "      <td>3.3335</td>\n",
       "      <td>296.495726</td>\n",
       "      <td>46368.228269</td>\n",
       "    </tr>\n",
       "    <tr>\n",
       "      <th>min</th>\n",
       "      <td>10101.0</td>\n",
       "      <td>2.000000</td>\n",
       "      <td>1.000000</td>\n",
       "      <td>-699.000000</td>\n",
       "      <td>1.0000</td>\n",
       "      <td>-3.000000</td>\n",
       "      <td>0.000000</td>\n",
       "    </tr>\n",
       "    <tr>\n",
       "      <th>25%</th>\n",
       "      <td>10101.0</td>\n",
       "      <td>2537.000000</td>\n",
       "      <td>91031.750000</td>\n",
       "      <td>4474.000000</td>\n",
       "      <td>6.2400</td>\n",
       "      <td>1.000000</td>\n",
       "      <td>11111.000000</td>\n",
       "    </tr>\n",
       "    <tr>\n",
       "      <th>50%</th>\n",
       "      <td>10101.0</td>\n",
       "      <td>2747.000000</td>\n",
       "      <td>91175.000000</td>\n",
       "      <td>4563.000000</td>\n",
       "      <td>7.1400</td>\n",
       "      <td>192.000000</td>\n",
       "      <td>111111.000000</td>\n",
       "    </tr>\n",
       "    <tr>\n",
       "      <th>75%</th>\n",
       "      <td>10101.0</td>\n",
       "      <td>2747.000000</td>\n",
       "      <td>91272.000000</td>\n",
       "      <td>5657.000000</td>\n",
       "      <td>8.8300</td>\n",
       "      <td>282.000000</td>\n",
       "      <td>111111.000000</td>\n",
       "    </tr>\n",
       "    <tr>\n",
       "      <th>max</th>\n",
       "      <td>10101.0</td>\n",
       "      <td>6040.000000</td>\n",
       "      <td>599109.000000</td>\n",
       "      <td>7253.000000</td>\n",
       "      <td>9.3800</td>\n",
       "      <td>11111.000000</td>\n",
       "      <td>111111.000000</td>\n",
       "    </tr>\n",
       "  </tbody>\n",
       "</table>\n",
       "</div>"
      ],
      "text/plain": [
       "       client_id  temparature       pressure     humidity  wind_speed  \\\n",
       "count     1678.0  1677.000000    1668.000000  1678.000000      5.0000   \n",
       "mean     10101.0  2568.403101  111061.177050  4721.179118      6.5180   \n",
       "std          0.0   541.269877  101565.629728   949.395945      3.3335   \n",
       "min      10101.0     2.000000       1.000000  -699.000000      1.0000   \n",
       "25%      10101.0  2537.000000   91031.750000  4474.000000      6.2400   \n",
       "50%      10101.0  2747.000000   91175.000000  4563.000000      7.1400   \n",
       "75%      10101.0  2747.000000   91272.000000  5657.000000      8.8300   \n",
       "max      10101.0  6040.000000  599109.000000  7253.000000      9.3800   \n",
       "\n",
       "       wind_direction           rain  \n",
       "count     1678.000000    1677.000000  \n",
       "mean       152.473021   80394.888849  \n",
       "std        296.495726   46368.228269  \n",
       "min         -3.000000       0.000000  \n",
       "25%          1.000000   11111.000000  \n",
       "50%        192.000000  111111.000000  \n",
       "75%        282.000000  111111.000000  \n",
       "max      11111.000000  111111.000000  "
      ]
     },
     "execution_count": 73,
     "metadata": {},
     "output_type": "execute_result"
    }
   ],
   "source": [
    "df.describe()"
   ]
  },
  {
   "cell_type": "code",
   "execution_count": 74,
   "metadata": {
    "collapsed": false,
    "deletable": true,
    "editable": true
   },
   "outputs": [
    {
     "data": {
      "text/plain": [
       "0    111111.0\n",
       "1    111111.0\n",
       "2    111111.0\n",
       "3    111111.0\n",
       "4    111111.0\n",
       "Name: rain, dtype: float64"
      ]
     },
     "execution_count": 74,
     "metadata": {},
     "output_type": "execute_result"
    }
   ],
   "source": [
    "rain = df['rain']\n",
    "rain.head(5)"
   ]
  },
  {
   "cell_type": "code",
   "execution_count": 75,
   "metadata": {
    "collapsed": false,
    "deletable": true,
    "editable": true
   },
   "outputs": [],
   "source": [
    "from dateutil.parser import parse\n",
    "df['date'] = df['date'].apply(parse)"
   ]
  },
  {
   "cell_type": "code",
   "execution_count": 76,
   "metadata": {
    "collapsed": false,
    "deletable": true,
    "editable": true
   },
   "outputs": [],
   "source": [
    "# df_date_year = df['date'].apply(lambda x: x.strftime(\"%Y\"))\n",
    "# df_date_year.head(5)\n",
    "df['date'] = df['date'].apply(lambda x: x.strftime(\"%Y\"))"
   ]
  },
  {
   "cell_type": "code",
   "execution_count": 83,
   "metadata": {
    "collapsed": false,
    "deletable": true,
    "editable": true
   },
   "outputs": [],
   "source": [
    "df_date_mean = df.groupby(['date'], axis=0).mean().reset_index()"
   ]
  },
  {
   "cell_type": "code",
   "execution_count": 86,
   "metadata": {
    "collapsed": false,
    "deletable": true,
    "editable": true
   },
   "outputs": [
    {
     "data": {
      "text/html": [
       "<div>\n",
       "<table border=\"1\" class=\"dataframe\">\n",
       "  <thead>\n",
       "    <tr style=\"text-align: right;\">\n",
       "      <th></th>\n",
       "      <th>date</th>\n",
       "      <th>client_id</th>\n",
       "      <th>temparature</th>\n",
       "      <th>pressure</th>\n",
       "      <th>humidity</th>\n",
       "      <th>wind_speed</th>\n",
       "      <th>wind_direction</th>\n",
       "      <th>rain</th>\n",
       "    </tr>\n",
       "  </thead>\n",
       "  <tbody>\n",
       "    <tr>\n",
       "      <th>0</th>\n",
       "      <td>2002</td>\n",
       "      <td>10101</td>\n",
       "      <td>2742.583333</td>\n",
       "      <td>91164.666667</td>\n",
       "      <td>5243.291667</td>\n",
       "      <td>NaN</td>\n",
       "      <td>9.083333</td>\n",
       "      <td>111111.000000</td>\n",
       "    </tr>\n",
       "    <tr>\n",
       "      <th>1</th>\n",
       "      <td>2016</td>\n",
       "      <td>10101</td>\n",
       "      <td>2587.366225</td>\n",
       "      <td>91111.679232</td>\n",
       "      <td>4750.294176</td>\n",
       "      <td>6.518</td>\n",
       "      <td>161.230311</td>\n",
       "      <td>86673.913907</td>\n",
       "    </tr>\n",
       "    <tr>\n",
       "      <th>2</th>\n",
       "      <td>2017</td>\n",
       "      <td>10101</td>\n",
       "      <td>2338.930070</td>\n",
       "      <td>341295.819549</td>\n",
       "      <td>4325.909510</td>\n",
       "      <td>NaN</td>\n",
       "      <td>84.005105</td>\n",
       "      <td>8936.745455</td>\n",
       "    </tr>\n",
       "  </tbody>\n",
       "</table>\n",
       "</div>"
      ],
      "text/plain": [
       "   date  client_id  temparature       pressure     humidity  wind_speed  \\\n",
       "0  2002      10101  2742.583333   91164.666667  5243.291667         NaN   \n",
       "1  2016      10101  2587.366225   91111.679232  4750.294176       6.518   \n",
       "2  2017      10101  2338.930070  341295.819549  4325.909510         NaN   \n",
       "\n",
       "   wind_direction           rain  \n",
       "0        9.083333  111111.000000  \n",
       "1      161.230311   86673.913907  \n",
       "2       84.005105    8936.745455  "
      ]
     },
     "execution_count": 86,
     "metadata": {},
     "output_type": "execute_result"
    }
   ],
   "source": [
    "df_date_mean"
   ]
  },
  {
   "cell_type": "code",
   "execution_count": 91,
   "metadata": {
    "collapsed": false,
    "deletable": true,
    "editable": true
   },
   "outputs": [],
   "source": [
    "df_mean_year = [i for i in df_date_mean['date']]\n",
    "df_mean_rain = [float(\"{:2.2f}\".format(i)) for i in df_date_mean['rain']]"
   ]
  },
  {
   "cell_type": "code",
   "execution_count": 143,
   "metadata": {
    "collapsed": false,
    "deletable": true,
    "editable": true
   },
   "outputs": [
    {
     "data": {
      "image/png": "[encoded data removed]",
      "text/plain": [
       "<matplotlib.figure.Figure at 0x7f3a2babce90>"
      ]
     },
     "metadata": {},
     "output_type": "display_data"
    }
   ],
   "source": [
    "area = np.pi * (20 * np.array([3, 2, 1]))**2\n",
    "colors = (\"red\", \"green\", \"blue\")\n",
    "fig, ax = plt.subplots(figsize=(16, 5))\n",
    "ax.scatter(df_mean_year, df_mean_rain, c = colors, s=area, alpha=0.5)\n",
    "\n",
    "for i, j in zip(df_mean_year, df_mean_rain):\n",
    "    ax.annotate(str(j), xy=(i, j))\n",
    "\n",
    "ax.set_title('Average Raining based on Year')\n",
    "ax.set_xlabel('Year')\n",
    "ax.set_ylabel('Rain(mm)')\n",
    "ax.grid(True)\n",
    "\n",
    "plt.show()"
   ]
  },
  {
   "cell_type": "code",
   "execution_count": null,
   "metadata": {
    "collapsed": true,
    "deletable": true,
    "editable": true
   },
   "outputs": [],
   "source": []
  }
 ],
 "metadata": {
  "kernelspec": {
   "display_name": "Python 2",
   "language": "python",
   "name": "python2"
  },
  "language_info": {
   "codemirror_mode": {
    "name": "ipython",
    "version": 2
   },
   "file_extension": ".py",
   "mimetype": "text/x-python",
   "name": "python",
   "nbconvert_exporter": "python",
   "pygments_lexer": "ipython2",
   "version": "2.7.12"
  }
 },
 "nbformat": 4,
 "nbformat_minor": 2
}
