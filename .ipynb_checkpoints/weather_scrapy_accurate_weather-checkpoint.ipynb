{
 "cells": [
  {
   "cell_type": "markdown",
   "metadata": {
    "deletable": true,
    "editable": true
   },
   "source": [
    "#### API Key for Accurate weather RA7hnB70OGesVqxv2AKCiuaFpQVLcQsR"
   ]
  },
  {
   "cell_type": "code",
   "execution_count": 146,
   "metadata": {
    "collapsed": false,
    "deletable": true,
    "editable": true
   },
   "outputs": [],
   "source": [
    "import requests\n",
    "import urllib2\n",
    "import re\n",
    "import pandas as pd\n",
    "from bs4 import BeautifulSoup\n",
    "from scrapy import Selector\n",
    "from scrapy.selector import HtmlXPathSelector"
   ]
  },
  {
   "cell_type": "code",
   "execution_count": 165,
   "metadata": {
    "collapsed": false,
    "deletable": true,
    "editable": true
   },
   "outputs": [],
   "source": [
    "base_url = \"https://www.accuweather.com/en/in/bangalore/1-204108_1_al/current-weather/1-204108_1_al\"\n",
    "\n",
    "base_links = [\"https://www.accuweather.com/en/in/bangalore/190760/daily-weather-forecast/1-204108_1_al?day={}\".format(i) for i in range(1, 6)]"
   ]
  },
  {
   "cell_type": "code",
   "execution_count": 164,
   "metadata": {
    "collapsed": false,
    "deletable": true,
    "editable": true
   },
   "outputs": [
    {
     "name": "stdout",
     "output_type": "stream",
     "text": [
      "[<li class=\"night fday1 current first cl { href: 'https://www.accuweather.com/en/in/dharmapuri/190760/daily-weather-forecast/190760?day=1' }\" data-href=\"https://www.accuweather.com/en/in/dharmapuri/190760/daily-weather-forecast/190760?day=1\">\\n<div class=\"bg bg-s\">\\n<h3><a href=\"#\">Tonight</a></h3>\\n<h4>Sep 4</h4>\\n<div class=\"icon i-42-l \"></div>\\n<div class=\"info\">\\n<div class=\"temp\">\\n<span class=\"large-temp\">23\\xb0</span>\\n<span class=\"temp-label tonight selected\">Lo</span>\\n<span class=\"small-temp tonight\">C</span>\\n</div>\\n<span class=\"cond\">Some clouds, a stray t-storm</span>\\n</div>\\n<!-- /.info -->\\n</div>\\n<!-- /.bg -->\\n</li>, <li class=\"day fday2 hv cl { href: 'https://www.accuweather.com/en/in/dharmapuri/190760/daily-weather-forecast/190760?day=2' }\" data-href=\"https://www.accuweather.com/en/in/dharmapuri/190760/daily-weather-forecast/190760?day=2\">\\n<div class=\"bg bg-t\">\\n<h3><a href=\"#\">Tue</a></h3>\\n<h4>Sep 5</h4>\\n<div class=\"icon i-15-m \"></div>\\n<div class=\"info\">\\n<div class=\"temp \">\\n<span class=\"large-temp\">32\\xb0</span>\\n<span class=\"small-temp\">/23\\xb0</span>\\n</div>\\n<span class=\"cond\">A stray afternoon t-storm</span>\\n</div>\\n<!-- /.info -->\\n<a class=\"bt-more\" href=\"https://www.accuweather.com/en/in/dharmapuri/190760/daily-weather-forecast/190760?day=2\">More</a>\\n</div>\\n<!-- /.bg -->\\n</li>, <li class=\"day fday3 hv cl { href: 'https://www.accuweather.com/en/in/dharmapuri/190760/daily-weather-forecast/190760?day=3' }\" data-href=\"https://www.accuweather.com/en/in/dharmapuri/190760/daily-weather-forecast/190760?day=3\">\\n<div class=\"bg bg-c\">\\n<h3><a href=\"#\">Wed</a></h3>\\n<h4>Sep 6</h4>\\n<div class=\"icon i-6-m \"></div>\\n<div class=\"info\">\\n<div class=\"temp \">\\n<span class=\"large-temp\">31\\xb0</span>\\n<span class=\"small-temp\">/23\\xb0</span>\\n</div>\\n<span class=\"cond\">A thunderstorm in spots</span>\\n</div>\\n<!-- /.info -->\\n<a class=\"bt-more\" href=\"https://www.accuweather.com/en/in/dharmapuri/190760/daily-weather-forecast/190760?day=3\">More</a>\\n</div>\\n<!-- /.bg -->\\n</li>, <li class=\"day fday4 hv cl { href: 'https://www.accuweather.com/en/in/dharmapuri/190760/daily-weather-forecast/190760?day=4' }\" data-href=\"https://www.accuweather.com/en/in/dharmapuri/190760/daily-weather-forecast/190760?day=4\">\\n<div class=\"bg bg-su\">\\n<h3><a href=\"#\">Thu</a></h3>\\n<h4>Sep 7</h4>\\n<div class=\"icon i-4-m \"></div>\\n<div class=\"info\">\\n<div class=\"temp \">\\n<span class=\"large-temp\">30\\xb0</span>\\n<span class=\"small-temp\">/23\\xb0</span>\\n</div>\\n<span class=\"cond\">A t-storm in the afternoon</span>\\n</div>\\n<!-- /.info -->\\n<a class=\"bt-more\" href=\"https://www.accuweather.com/en/in/dharmapuri/190760/daily-weather-forecast/190760?day=4\">More</a>\\n</div>\\n<!-- /.bg -->\\n</li>, <li class=\"day fday5 hv last cl { href: 'https://www.accuweather.com/en/in/dharmapuri/190760/daily-weather-forecast/190760?day=5' }\" data-href=\"https://www.accuweather.com/en/in/dharmapuri/190760/daily-weather-forecast/190760?day=5\">\\n<div class=\"bg bg-c\">\\n<h3><a href=\"#\">Fri</a></h3>\\n<h4>Sep 8</h4>\\n<div class=\"icon i-6-m \"></div>\\n<div class=\"info\">\\n<div class=\"temp \">\\n<span class=\"large-temp\">31\\xb0</span>\\n<span class=\"small-temp\">/23\\xb0</span>\\n</div>\\n<span class=\"cond\">An afternoon thunderstorm</span>\\n</div>\\n<!-- /.info -->\\n<a class=\"bt-more\" href=\"https://www.accuweather.com/en/in/dharmapuri/190760/daily-weather-forecast/190760?day=5\">More</a>\\n</div>\\n<!-- /.bg -->\\n</li>]\n"
     ]
    },
    {
     "name": "stderr",
     "output_type": "stream",
     "text": [
      "/usr/local/lib/python2.7/dist-packages/ipykernel/__main__.py:13: ScrapyDeprecationWarning: scrapy.selector.HtmlXPathSelector is deprecated, instantiate scrapy.Selector instead.\n"
     ]
    }
   ],
   "source": [
    "req = urllib2.Request(base_url)\n",
    "read_url = urllib2.urlopen(req)\n",
    "response = read_url.read()\n",
    "soup = BeautifulSoup(response, \"lxml\")\n",
    "\n",
    "five_day_data = soup.find_all(\"li\", attrs={'data-href': base_links})\n",
    "column_header = ('Day', 'Date', 'real_feel', 'precipitation', 'description')\n",
    "data = []\n",
    "print five_day_data\n",
    "for day in five_day_data:\n",
    "    hxs = HtmlXPathSelector(day).xpath(\"/html/body/p/text()\").extract()\n",
    "    doc = \"\"\"{}\"\"\".format(hxs[0].encode(\"utf-8\"))\n",
    "    each_day = re.sub(\"\\n+\",\n",
    "                      \",\",\n",
    "                      doc.decode(\"unicode_escape\").encode(\"ascii\", \"ignore\").replace(\"/\", \"\").replace(\"More\", \"\")\n",
    "                     )\n",
    "    data.append(filter(None, tuple(each_day.split(\",\"))))   "
   ]
  },
  {
   "cell_type": "code",
   "execution_count": 157,
   "metadata": {
    "collapsed": false
   },
   "outputs": [
    {
     "data": {
      "text/html": [
       "<div>\n",
       "<table border=\"1\" class=\"dataframe\">\n",
       "  <thead>\n",
       "    <tr style=\"text-align: right;\">\n",
       "      <th></th>\n",
       "      <th>Day</th>\n",
       "      <th>Date</th>\n",
       "      <th>real_feel</th>\n",
       "      <th>precipitation</th>\n",
       "      <th>description</th>\n",
       "    </tr>\n",
       "  </thead>\n",
       "  <tbody>\n",
       "  </tbody>\n",
       "</table>\n",
       "</div>"
      ],
      "text/plain": [
       "Empty DataFrame\n",
       "Columns: [Day, Date, real_feel, precipitation, description]\n",
       "Index: []"
      ]
     },
     "execution_count": 157,
     "metadata": {},
     "output_type": "execute_result"
    }
   ],
   "source": [
    "df = pd.DataFrame(data=data, columns=column_header)\n",
    "df"
   ]
  }
 ],
 "metadata": {
  "kernelspec": {
   "display_name": "Python 2",
   "language": "python",
   "name": "python2"
  },
  "language_info": {
   "codemirror_mode": {
    "name": "ipython",
    "version": 2
   },
   "file_extension": ".py",
   "mimetype": "text/x-python",
   "name": "python",
   "nbconvert_exporter": "python",
   "pygments_lexer": "ipython2",
   "version": "2.7.12"
  }
 },
 "nbformat": 4,
 "nbformat_minor": 2
}
