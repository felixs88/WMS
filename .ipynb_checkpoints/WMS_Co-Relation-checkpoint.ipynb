{
 "cells": [
  {
   "cell_type": "code",
   "execution_count": 313,
   "metadata": {
    "collapsed": true,
    "deletable": true,
    "editable": true
   },
   "outputs": [],
   "source": [
    "%matplotlib inline\n",
    "\n",
    "import pandas as pd\n",
    "import numpy as np"
   ]
  },
  {
   "cell_type": "code",
   "execution_count": 314,
   "metadata": {
    "collapsed": false,
    "deletable": true,
    "editable": true
   },
   "outputs": [
    {
     "data": {
      "text/html": [
       "<div>\n",
       "<table border=\"1\" class=\"dataframe\">\n",
       "  <thead>\n",
       "    <tr style=\"text-align: right;\">\n",
       "      <th></th>\n",
       "      <th>client_id</th>\n",
       "      <th>date</th>\n",
       "      <th>time</th>\n",
       "      <th>temparature</th>\n",
       "      <th>pressure</th>\n",
       "      <th>humidity</th>\n",
       "      <th>wind_speed</th>\n",
       "      <th>wind_direction</th>\n",
       "      <th>rain</th>\n",
       "    </tr>\n",
       "  </thead>\n",
       "  <tbody>\n",
       "    <tr>\n",
       "      <th>0</th>\n",
       "      <td>10101</td>\n",
       "      <td>2016-10-13</td>\n",
       "      <td>12:48:16</td>\n",
       "      <td>2747</td>\n",
       "      <td>91061.0</td>\n",
       "      <td>4265.0</td>\n",
       "      <td>1</td>\n",
       "      <td>150.0</td>\n",
       "      <td>111111.0</td>\n",
       "    </tr>\n",
       "    <tr>\n",
       "      <th>1</th>\n",
       "      <td>10101</td>\n",
       "      <td>2016-10-13</td>\n",
       "      <td>12:54:56</td>\n",
       "      <td>2747</td>\n",
       "      <td>91035.0</td>\n",
       "      <td>4275.0</td>\n",
       "      <td>7.14</td>\n",
       "      <td>40.0</td>\n",
       "      <td>111111.0</td>\n",
       "    </tr>\n",
       "    <tr>\n",
       "      <th>2</th>\n",
       "      <td>10101</td>\n",
       "      <td>2016-10-13</td>\n",
       "      <td>12:57:16</td>\n",
       "      <td>2747</td>\n",
       "      <td>91044.0</td>\n",
       "      <td>4258.0</td>\n",
       "      <td>8.83</td>\n",
       "      <td>335.0</td>\n",
       "      <td>111111.0</td>\n",
       "    </tr>\n",
       "    <tr>\n",
       "      <th>3</th>\n",
       "      <td>10101</td>\n",
       "      <td>2016-10-13</td>\n",
       "      <td>12:59:26</td>\n",
       "      <td>2747</td>\n",
       "      <td>91040.0</td>\n",
       "      <td>7253.0</td>\n",
       "      <td>9.38</td>\n",
       "      <td>330.0</td>\n",
       "      <td>111111.0</td>\n",
       "    </tr>\n",
       "    <tr>\n",
       "      <th>4</th>\n",
       "      <td>10101</td>\n",
       "      <td>2016-10-13</td>\n",
       "      <td>13:06:16</td>\n",
       "      <td>2747</td>\n",
       "      <td>91022.0</td>\n",
       "      <td>4252.0</td>\n",
       "      <td>6.24</td>\n",
       "      <td>185.0</td>\n",
       "      <td>111111.0</td>\n",
       "    </tr>\n",
       "  </tbody>\n",
       "</table>\n",
       "</div>"
      ],
      "text/plain": [
       "   client_id        date      time temparature  pressure  humidity wind_speed  \\\n",
       "0      10101  2016-10-13  12:48:16        2747   91061.0    4265.0          1   \n",
       "1      10101  2016-10-13  12:54:56        2747   91035.0    4275.0       7.14   \n",
       "2      10101  2016-10-13  12:57:16        2747   91044.0    4258.0       8.83   \n",
       "3      10101  2016-10-13  12:59:26        2747   91040.0    7253.0       9.38   \n",
       "4      10101  2016-10-13  13:06:16        2747   91022.0    4252.0       6.24   \n",
       "\n",
       "   wind_direction      rain  \n",
       "0           150.0  111111.0  \n",
       "1            40.0  111111.0  \n",
       "2           335.0  111111.0  \n",
       "3           330.0  111111.0  \n",
       "4           185.0  111111.0  "
      ]
     },
     "execution_count": 314,
     "metadata": {},
     "output_type": "execute_result"
    }
   ],
   "source": [
    "df = pd.read_csv(\"wms.csv\", sep=\",\")\n",
    "df.columns = [\n",
    "    \"client_id\",\n",
    "    \"date\",\n",
    "    \"time\",\n",
    "    \"temparature\",\n",
    "    \"pressure\",\n",
    "    \"humidity\",\n",
    "    \"wind_speed\",\n",
    "    \"wind_direction\",\n",
    "    \"rain\",\n",
    "]\n",
    "df.replace(\"wwww\", 0)\n",
    "df.head(5)"
   ]
  },
  {
   "cell_type": "code",
   "execution_count": 315,
   "metadata": {
    "collapsed": false,
    "deletable": true,
    "editable": true
   },
   "outputs": [
    {
     "data": {
      "text/plain": [
       "(1678, 9)"
      ]
     },
     "execution_count": 315,
     "metadata": {},
     "output_type": "execute_result"
    }
   ],
   "source": [
    "df.shape"
   ]
  },
  {
   "cell_type": "code",
   "execution_count": 316,
   "metadata": {
    "collapsed": false,
    "deletable": true,
    "editable": true
   },
   "outputs": [
    {
     "data": {
      "text/plain": [
       "client_id           int64\n",
       "date               object\n",
       "time               object\n",
       "temparature        object\n",
       "pressure          float64\n",
       "humidity          float64\n",
       "wind_speed         object\n",
       "wind_direction    float64\n",
       "rain              float64\n",
       "dtype: object"
      ]
     },
     "execution_count": 316,
     "metadata": {},
     "output_type": "execute_result"
    }
   ],
   "source": [
    "df.dtypes"
   ]
  },
  {
   "cell_type": "code",
   "execution_count": 317,
   "metadata": {
    "collapsed": false,
    "deletable": true,
    "editable": true
   },
   "outputs": [
    {
     "data": {
      "text/html": [
       "<div>\n",
       "<table border=\"1\" class=\"dataframe\">\n",
       "  <thead>\n",
       "    <tr style=\"text-align: right;\">\n",
       "      <th></th>\n",
       "      <th>client_id</th>\n",
       "      <th>pressure</th>\n",
       "      <th>humidity</th>\n",
       "      <th>wind_direction</th>\n",
       "      <th>rain</th>\n",
       "    </tr>\n",
       "  </thead>\n",
       "  <tbody>\n",
       "    <tr>\n",
       "      <th>count</th>\n",
       "      <td>1678.0</td>\n",
       "      <td>1668.000000</td>\n",
       "      <td>1678.000000</td>\n",
       "      <td>1678.000000</td>\n",
       "      <td>1677.000000</td>\n",
       "    </tr>\n",
       "    <tr>\n",
       "      <th>mean</th>\n",
       "      <td>10101.0</td>\n",
       "      <td>111061.177050</td>\n",
       "      <td>4721.179118</td>\n",
       "      <td>152.473021</td>\n",
       "      <td>80394.888849</td>\n",
       "    </tr>\n",
       "    <tr>\n",
       "      <th>std</th>\n",
       "      <td>0.0</td>\n",
       "      <td>101565.629728</td>\n",
       "      <td>949.395945</td>\n",
       "      <td>296.495726</td>\n",
       "      <td>46368.228269</td>\n",
       "    </tr>\n",
       "    <tr>\n",
       "      <th>min</th>\n",
       "      <td>10101.0</td>\n",
       "      <td>1.000000</td>\n",
       "      <td>-699.000000</td>\n",
       "      <td>-3.000000</td>\n",
       "      <td>0.000000</td>\n",
       "    </tr>\n",
       "    <tr>\n",
       "      <th>25%</th>\n",
       "      <td>10101.0</td>\n",
       "      <td>91031.750000</td>\n",
       "      <td>4474.000000</td>\n",
       "      <td>1.000000</td>\n",
       "      <td>11111.000000</td>\n",
       "    </tr>\n",
       "    <tr>\n",
       "      <th>50%</th>\n",
       "      <td>10101.0</td>\n",
       "      <td>91175.000000</td>\n",
       "      <td>4563.000000</td>\n",
       "      <td>192.000000</td>\n",
       "      <td>111111.000000</td>\n",
       "    </tr>\n",
       "    <tr>\n",
       "      <th>75%</th>\n",
       "      <td>10101.0</td>\n",
       "      <td>91272.000000</td>\n",
       "      <td>5657.000000</td>\n",
       "      <td>282.000000</td>\n",
       "      <td>111111.000000</td>\n",
       "    </tr>\n",
       "    <tr>\n",
       "      <th>max</th>\n",
       "      <td>10101.0</td>\n",
       "      <td>599109.000000</td>\n",
       "      <td>7253.000000</td>\n",
       "      <td>11111.000000</td>\n",
       "      <td>111111.000000</td>\n",
       "    </tr>\n",
       "  </tbody>\n",
       "</table>\n",
       "</div>"
      ],
      "text/plain": [
       "       client_id       pressure     humidity  wind_direction           rain\n",
       "count     1678.0    1668.000000  1678.000000     1678.000000    1677.000000\n",
       "mean     10101.0  111061.177050  4721.179118      152.473021   80394.888849\n",
       "std          0.0  101565.629728   949.395945      296.495726   46368.228269\n",
       "min      10101.0       1.000000  -699.000000       -3.000000       0.000000\n",
       "25%      10101.0   91031.750000  4474.000000        1.000000   11111.000000\n",
       "50%      10101.0   91175.000000  4563.000000      192.000000  111111.000000\n",
       "75%      10101.0   91272.000000  5657.000000      282.000000  111111.000000\n",
       "max      10101.0  599109.000000  7253.000000    11111.000000  111111.000000"
      ]
     },
     "execution_count": 317,
     "metadata": {},
     "output_type": "execute_result"
    }
   ],
   "source": [
    "df.describe()"
   ]
  },
  {
   "cell_type": "code",
   "execution_count": 318,
   "metadata": {
    "collapsed": false,
    "deletable": true,
    "editable": true
   },
   "outputs": [],
   "source": [
    "temp = []\n",
    "for i in df.temparature:\n",
    "    a = \"{:4}\".format(i)\n",
    "    b = str(\"{}.{}\".format(a[:2], a[2:]))\n",
    "    temp.append(b)"
   ]
  },
  {
   "cell_type": "code",
   "execution_count": 319,
   "metadata": {
    "collapsed": true,
    "deletable": true,
    "editable": true
   },
   "outputs": [],
   "source": [
    "df.temparature = pd.Series(temp)"
   ]
  },
  {
   "cell_type": "code",
   "execution_count": 320,
   "metadata": {
    "collapsed": false,
    "deletable": true,
    "editable": true
   },
   "outputs": [
    {
     "data": {
      "text/html": [
       "<div>\n",
       "<table border=\"1\" class=\"dataframe\">\n",
       "  <thead>\n",
       "    <tr style=\"text-align: right;\">\n",
       "      <th></th>\n",
       "      <th>client_id</th>\n",
       "      <th>date</th>\n",
       "      <th>time</th>\n",
       "      <th>temparature</th>\n",
       "      <th>pressure</th>\n",
       "      <th>humidity</th>\n",
       "      <th>wind_speed</th>\n",
       "      <th>wind_direction</th>\n",
       "      <th>rain</th>\n",
       "    </tr>\n",
       "  </thead>\n",
       "  <tbody>\n",
       "    <tr>\n",
       "      <th>0</th>\n",
       "      <td>10101</td>\n",
       "      <td>2016-10-13</td>\n",
       "      <td>12:48:16</td>\n",
       "      <td>27.47</td>\n",
       "      <td>91061.0</td>\n",
       "      <td>4265.0</td>\n",
       "      <td>1</td>\n",
       "      <td>150.0</td>\n",
       "      <td>111111.0</td>\n",
       "    </tr>\n",
       "    <tr>\n",
       "      <th>1</th>\n",
       "      <td>10101</td>\n",
       "      <td>2016-10-13</td>\n",
       "      <td>12:54:56</td>\n",
       "      <td>27.47</td>\n",
       "      <td>91035.0</td>\n",
       "      <td>4275.0</td>\n",
       "      <td>7.14</td>\n",
       "      <td>40.0</td>\n",
       "      <td>111111.0</td>\n",
       "    </tr>\n",
       "    <tr>\n",
       "      <th>2</th>\n",
       "      <td>10101</td>\n",
       "      <td>2016-10-13</td>\n",
       "      <td>12:57:16</td>\n",
       "      <td>27.47</td>\n",
       "      <td>91044.0</td>\n",
       "      <td>4258.0</td>\n",
       "      <td>8.83</td>\n",
       "      <td>335.0</td>\n",
       "      <td>111111.0</td>\n",
       "    </tr>\n",
       "    <tr>\n",
       "      <th>3</th>\n",
       "      <td>10101</td>\n",
       "      <td>2016-10-13</td>\n",
       "      <td>12:59:26</td>\n",
       "      <td>27.47</td>\n",
       "      <td>91040.0</td>\n",
       "      <td>7253.0</td>\n",
       "      <td>9.38</td>\n",
       "      <td>330.0</td>\n",
       "      <td>111111.0</td>\n",
       "    </tr>\n",
       "    <tr>\n",
       "      <th>4</th>\n",
       "      <td>10101</td>\n",
       "      <td>2016-10-13</td>\n",
       "      <td>13:06:16</td>\n",
       "      <td>27.47</td>\n",
       "      <td>91022.0</td>\n",
       "      <td>4252.0</td>\n",
       "      <td>6.24</td>\n",
       "      <td>185.0</td>\n",
       "      <td>111111.0</td>\n",
       "    </tr>\n",
       "  </tbody>\n",
       "</table>\n",
       "</div>"
      ],
      "text/plain": [
       "   client_id        date      time temparature  pressure  humidity wind_speed  \\\n",
       "0      10101  2016-10-13  12:48:16       27.47   91061.0    4265.0          1   \n",
       "1      10101  2016-10-13  12:54:56       27.47   91035.0    4275.0       7.14   \n",
       "2      10101  2016-10-13  12:57:16       27.47   91044.0    4258.0       8.83   \n",
       "3      10101  2016-10-13  12:59:26       27.47   91040.0    7253.0       9.38   \n",
       "4      10101  2016-10-13  13:06:16       27.47   91022.0    4252.0       6.24   \n",
       "\n",
       "   wind_direction      rain  \n",
       "0           150.0  111111.0  \n",
       "1            40.0  111111.0  \n",
       "2           335.0  111111.0  \n",
       "3           330.0  111111.0  \n",
       "4           185.0  111111.0  "
      ]
     },
     "execution_count": 320,
     "metadata": {},
     "output_type": "execute_result"
    }
   ],
   "source": [
    "df.head(5)"
   ]
  },
  {
   "cell_type": "code",
   "execution_count": 321,
   "metadata": {
    "collapsed": false,
    "deletable": true,
    "editable": true
   },
   "outputs": [],
   "source": [
    "df_mean = df.groupby(['date'], axis=0,).mean().head(5)"
   ]
  },
  {
   "cell_type": "code",
   "execution_count": 322,
   "metadata": {
    "collapsed": false,
    "deletable": true,
    "editable": true,
    "scrolled": true
   },
   "outputs": [],
   "source": [
    "df_max = df.groupby(['date'], axis=0,).max().head(5)"
   ]
  },
  {
   "cell_type": "code",
   "execution_count": 354,
   "metadata": {
    "collapsed": false,
    "deletable": true,
    "editable": true
   },
   "outputs": [],
   "source": [
    "df_min = df.groupby(['date'], axis=0,).min().reset_index()"
   ]
  },
  {
   "cell_type": "code",
   "execution_count": 355,
   "metadata": {
    "collapsed": false,
    "deletable": true,
    "editable": true
   },
   "outputs": [
    {
     "data": {
      "text/html": [
       "<div>\n",
       "<table border=\"1\" class=\"dataframe\">\n",
       "  <thead>\n",
       "    <tr style=\"text-align: right;\">\n",
       "      <th></th>\n",
       "      <th>date</th>\n",
       "      <th>client_id</th>\n",
       "      <th>time</th>\n",
       "      <th>temparature</th>\n",
       "      <th>pressure</th>\n",
       "      <th>humidity</th>\n",
       "      <th>wind_speed</th>\n",
       "      <th>wind_direction</th>\n",
       "      <th>rain</th>\n",
       "    </tr>\n",
       "  </thead>\n",
       "  <tbody>\n",
       "    <tr>\n",
       "      <th>0</th>\n",
       "      <td>2002-11-16</td>\n",
       "      <td>10101</td>\n",
       "      <td>18:24:49</td>\n",
       "      <td>26.41</td>\n",
       "      <td>91138.00</td>\n",
       "      <td>4625.0</td>\n",
       "      <td>0</td>\n",
       "      <td>-1.0</td>\n",
       "      <td>111111.0</td>\n",
       "    </tr>\n",
       "    <tr>\n",
       "      <th>1</th>\n",
       "      <td>2016-10-13</td>\n",
       "      <td>10101</td>\n",
       "      <td>11:01:00</td>\n",
       "      <td>26.00</td>\n",
       "      <td>90020.00</td>\n",
       "      <td>4037.0</td>\n",
       "      <td>1</td>\n",
       "      <td>5.0</td>\n",
       "      <td>111111.0</td>\n",
       "    </tr>\n",
       "    <tr>\n",
       "      <th>2</th>\n",
       "      <td>2016-10-18</td>\n",
       "      <td>10101</td>\n",
       "      <td>12:19:35</td>\n",
       "      <td>25.75</td>\n",
       "      <td>90700.00</td>\n",
       "      <td>20.0</td>\n",
       "      <td>1</td>\n",
       "      <td>5.0</td>\n",
       "      <td>111111.0</td>\n",
       "    </tr>\n",
       "    <tr>\n",
       "      <th>3</th>\n",
       "      <td>2016-10-25</td>\n",
       "      <td>10101</td>\n",
       "      <td>03:05:48</td>\n",
       "      <td>27.47</td>\n",
       "      <td>78597.00</td>\n",
       "      <td>3450.0</td>\n",
       "      <td>1</td>\n",
       "      <td>0.0</td>\n",
       "      <td>111111.0</td>\n",
       "    </tr>\n",
       "    <tr>\n",
       "      <th>4</th>\n",
       "      <td>2016-10-26</td>\n",
       "      <td>10101</td>\n",
       "      <td>00:51:41</td>\n",
       "      <td>27.</td>\n",
       "      <td>910.32</td>\n",
       "      <td>34.5</td>\n",
       "      <td>0</td>\n",
       "      <td>0.0</td>\n",
       "      <td>111111.0</td>\n",
       "    </tr>\n",
       "  </tbody>\n",
       "</table>\n",
       "</div>"
      ],
      "text/plain": [
       "         date  client_id      time temparature  pressure  humidity wind_speed  \\\n",
       "0  2002-11-16      10101  18:24:49       26.41  91138.00    4625.0          0   \n",
       "1  2016-10-13      10101  11:01:00       26.00  90020.00    4037.0          1   \n",
       "2  2016-10-18      10101  12:19:35       25.75  90700.00      20.0          1   \n",
       "3  2016-10-25      10101  03:05:48       27.47  78597.00    3450.0          1   \n",
       "4  2016-10-26      10101  00:51:41       27.      910.32      34.5          0   \n",
       "\n",
       "   wind_direction      rain  \n",
       "0            -1.0  111111.0  \n",
       "1             5.0  111111.0  \n",
       "2             5.0  111111.0  \n",
       "3             0.0  111111.0  \n",
       "4             0.0  111111.0  "
      ]
     },
     "execution_count": 355,
     "metadata": {},
     "output_type": "execute_result"
    }
   ],
   "source": [
    "df_min.head(5)"
   ]
  },
  {
   "cell_type": "markdown",
   "metadata": {
    "deletable": true,
    "editable": true
   },
   "source": [
    "## Minimum value of pressure based on date"
   ]
  },
  {
   "cell_type": "code",
   "execution_count": 409,
   "metadata": {
    "collapsed": false,
    "deletable": true,
    "editable": true
   },
   "outputs": [],
   "source": [
    "pres = [float(\"{:2.2f}\".format(i)) for i in df_min.pressure.head(5)]\n",
    "date = [i for i in df_min.date.head(5)]"
   ]
  },
  {
   "cell_type": "code",
   "execution_count": 411,
   "metadata": {
    "collapsed": false,
    "deletable": true,
    "editable": true,
    "scrolled": true
   },
   "outputs": [
    {
     "data": {
      "image/png": "[encoded data removed]",
      "text/plain": [
       "<matplotlib.figure.Figure at 0x7f6d23a43050>"
      ]
     },
     "metadata": {},
     "output_type": "display_data"
    }
   ],
   "source": [
    "import matplotlib.pyplot as plt\n",
    "from matplotlib import mlab\n",
    "from matplotlib.dates import DateFormatter\n",
    "import matplotlib.dates as mdates \n",
    "\n",
    "fig, ax = plt.subplots(figsize=(16, 5))\n",
    "date = mdates.datestr2num(date)\n",
    "ax.plot(date, pres)\n",
    "ax.grid(True)\n",
    "ax.legend(loc='right')\n",
    "ax.set_title('Minimum Pressure based on Date')\n",
    "ax.set_xlabel('Date')\n",
    "ax.set_ylabel('Pressure(pascal)')\n",
    "\n",
    "\n",
    "plt.show()"
   ]
  },
  {
   "cell_type": "code",
   "execution_count": null,
   "metadata": {
    "collapsed": true
   },
   "outputs": [],
   "source": []
  }
 ],
 "metadata": {
  "kernelspec": {
   "display_name": "Python 2",
   "language": "python",
   "name": "python2"
  },
  "language_info": {
   "codemirror_mode": {
    "name": "ipython",
    "version": 2
   },
   "file_extension": ".py",
   "mimetype": "text/x-python",
   "name": "python",
   "nbconvert_exporter": "python",
   "pygments_lexer": "ipython2",
   "version": "2.7.12"
  }
 },
 "nbformat": 4,
 "nbformat_minor": 2
}
