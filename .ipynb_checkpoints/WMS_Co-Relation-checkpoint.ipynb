{
 "cells": [
  {
   "cell_type": "code",
   "execution_count": 223,
   "metadata": {
    "collapsed": true,
    "deletable": true,
    "editable": true
   },
   "outputs": [],
   "source": [
    "import pandas as pd\n",
    "import numpy as np\n",
    "import matplotlib.pyplot as plt\n",
    "\n",
    "%matplotlib inline"
   ]
  },
  {
   "cell_type": "code",
   "execution_count": 224,
   "metadata": {
    "collapsed": false,
    "deletable": true,
    "editable": true
   },
   "outputs": [
    {
     "data": {
      "text/html": [
       "<div>\n",
       "<table border=\"1\" class=\"dataframe\">\n",
       "  <thead>\n",
       "    <tr style=\"text-align: right;\">\n",
       "      <th></th>\n",
       "      <th>client_id</th>\n",
       "      <th>date</th>\n",
       "      <th>time</th>\n",
       "      <th>temparature</th>\n",
       "      <th>pressure</th>\n",
       "      <th>humidity</th>\n",
       "      <th>wind_speed</th>\n",
       "      <th>wind_direction</th>\n",
       "      <th>rain</th>\n",
       "    </tr>\n",
       "  </thead>\n",
       "  <tbody>\n",
       "    <tr>\n",
       "      <th>0</th>\n",
       "      <td>10101</td>\n",
       "      <td>2016-10-13</td>\n",
       "      <td>12:48:16</td>\n",
       "      <td>2747</td>\n",
       "      <td>91061.0</td>\n",
       "      <td>4265.0</td>\n",
       "      <td>1</td>\n",
       "      <td>150.0</td>\n",
       "      <td>111111.0</td>\n",
       "    </tr>\n",
       "    <tr>\n",
       "      <th>1</th>\n",
       "      <td>10101</td>\n",
       "      <td>2016-10-13</td>\n",
       "      <td>12:54:56</td>\n",
       "      <td>2747</td>\n",
       "      <td>91035.0</td>\n",
       "      <td>4275.0</td>\n",
       "      <td>7.14</td>\n",
       "      <td>40.0</td>\n",
       "      <td>111111.0</td>\n",
       "    </tr>\n",
       "    <tr>\n",
       "      <th>2</th>\n",
       "      <td>10101</td>\n",
       "      <td>2016-10-13</td>\n",
       "      <td>12:57:16</td>\n",
       "      <td>2747</td>\n",
       "      <td>91044.0</td>\n",
       "      <td>4258.0</td>\n",
       "      <td>8.83</td>\n",
       "      <td>335.0</td>\n",
       "      <td>111111.0</td>\n",
       "    </tr>\n",
       "    <tr>\n",
       "      <th>3</th>\n",
       "      <td>10101</td>\n",
       "      <td>2016-10-13</td>\n",
       "      <td>12:59:26</td>\n",
       "      <td>2747</td>\n",
       "      <td>91040.0</td>\n",
       "      <td>7253.0</td>\n",
       "      <td>9.38</td>\n",
       "      <td>330.0</td>\n",
       "      <td>111111.0</td>\n",
       "    </tr>\n",
       "    <tr>\n",
       "      <th>4</th>\n",
       "      <td>10101</td>\n",
       "      <td>2016-10-13</td>\n",
       "      <td>13:06:16</td>\n",
       "      <td>2747</td>\n",
       "      <td>91022.0</td>\n",
       "      <td>4252.0</td>\n",
       "      <td>6.24</td>\n",
       "      <td>185.0</td>\n",
       "      <td>111111.0</td>\n",
       "    </tr>\n",
       "  </tbody>\n",
       "</table>\n",
       "</div>"
      ],
      "text/plain": [
       "   client_id        date      time temparature  pressure  humidity wind_speed  \\\n",
       "0      10101  2016-10-13  12:48:16        2747   91061.0    4265.0          1   \n",
       "1      10101  2016-10-13  12:54:56        2747   91035.0    4275.0       7.14   \n",
       "2      10101  2016-10-13  12:57:16        2747   91044.0    4258.0       8.83   \n",
       "3      10101  2016-10-13  12:59:26        2747   91040.0    7253.0       9.38   \n",
       "4      10101  2016-10-13  13:06:16        2747   91022.0    4252.0       6.24   \n",
       "\n",
       "   wind_direction      rain  \n",
       "0           150.0  111111.0  \n",
       "1            40.0  111111.0  \n",
       "2           335.0  111111.0  \n",
       "3           330.0  111111.0  \n",
       "4           185.0  111111.0  "
      ]
     },
     "execution_count": 224,
     "metadata": {},
     "output_type": "execute_result"
    }
   ],
   "source": [
    "df = pd.read_csv(\"wms.csv\", sep=\",\")\n",
    "df.columns = [\n",
    "    \"client_id\",\n",
    "    \"date\",\n",
    "    \"time\",\n",
    "    \"temparature\",\n",
    "    \"pressure\",\n",
    "    \"humidity\",\n",
    "    \"wind_speed\",\n",
    "    \"wind_direction\",\n",
    "    \"rain\",\n",
    "]\n",
    "df.head(5)"
   ]
  },
  {
   "cell_type": "code",
   "execution_count": 225,
   "metadata": {
    "collapsed": false,
    "deletable": true,
    "editable": true
   },
   "outputs": [
    {
     "data": {
      "text/plain": [
       "(1678, 9)"
      ]
     },
     "execution_count": 225,
     "metadata": {},
     "output_type": "execute_result"
    }
   ],
   "source": [
    "df.shape"
   ]
  },
  {
   "cell_type": "code",
   "execution_count": 226,
   "metadata": {
    "collapsed": false,
    "deletable": true,
    "editable": true
   },
   "outputs": [
    {
     "data": {
      "text/plain": [
       "client_id           int64\n",
       "date               object\n",
       "time               object\n",
       "temparature        object\n",
       "pressure          float64\n",
       "humidity          float64\n",
       "wind_speed         object\n",
       "wind_direction    float64\n",
       "rain              float64\n",
       "dtype: object"
      ]
     },
     "execution_count": 226,
     "metadata": {},
     "output_type": "execute_result"
    }
   ],
   "source": [
    "df.dtypes"
   ]
  },
  {
   "cell_type": "code",
   "execution_count": 227,
   "metadata": {
    "collapsed": false,
    "deletable": true,
    "editable": true
   },
   "outputs": [
    {
     "data": {
      "text/html": [
       "<div>\n",
       "<table border=\"1\" class=\"dataframe\">\n",
       "  <thead>\n",
       "    <tr style=\"text-align: right;\">\n",
       "      <th></th>\n",
       "      <th>client_id</th>\n",
       "      <th>pressure</th>\n",
       "      <th>humidity</th>\n",
       "      <th>wind_direction</th>\n",
       "      <th>rain</th>\n",
       "    </tr>\n",
       "  </thead>\n",
       "  <tbody>\n",
       "    <tr>\n",
       "      <th>count</th>\n",
       "      <td>1678.0</td>\n",
       "      <td>1668.000000</td>\n",
       "      <td>1678.000000</td>\n",
       "      <td>1678.000000</td>\n",
       "      <td>1677.000000</td>\n",
       "    </tr>\n",
       "    <tr>\n",
       "      <th>mean</th>\n",
       "      <td>10101.0</td>\n",
       "      <td>111061.177050</td>\n",
       "      <td>4721.179118</td>\n",
       "      <td>152.473021</td>\n",
       "      <td>80394.888849</td>\n",
       "    </tr>\n",
       "    <tr>\n",
       "      <th>std</th>\n",
       "      <td>0.0</td>\n",
       "      <td>101565.629728</td>\n",
       "      <td>949.395945</td>\n",
       "      <td>296.495726</td>\n",
       "      <td>46368.228269</td>\n",
       "    </tr>\n",
       "    <tr>\n",
       "      <th>min</th>\n",
       "      <td>10101.0</td>\n",
       "      <td>1.000000</td>\n",
       "      <td>-699.000000</td>\n",
       "      <td>-3.000000</td>\n",
       "      <td>0.000000</td>\n",
       "    </tr>\n",
       "    <tr>\n",
       "      <th>25%</th>\n",
       "      <td>10101.0</td>\n",
       "      <td>91031.750000</td>\n",
       "      <td>4474.000000</td>\n",
       "      <td>1.000000</td>\n",
       "      <td>11111.000000</td>\n",
       "    </tr>\n",
       "    <tr>\n",
       "      <th>50%</th>\n",
       "      <td>10101.0</td>\n",
       "      <td>91175.000000</td>\n",
       "      <td>4563.000000</td>\n",
       "      <td>192.000000</td>\n",
       "      <td>111111.000000</td>\n",
       "    </tr>\n",
       "    <tr>\n",
       "      <th>75%</th>\n",
       "      <td>10101.0</td>\n",
       "      <td>91272.000000</td>\n",
       "      <td>5657.000000</td>\n",
       "      <td>282.000000</td>\n",
       "      <td>111111.000000</td>\n",
       "    </tr>\n",
       "    <tr>\n",
       "      <th>max</th>\n",
       "      <td>10101.0</td>\n",
       "      <td>599109.000000</td>\n",
       "      <td>7253.000000</td>\n",
       "      <td>11111.000000</td>\n",
       "      <td>111111.000000</td>\n",
       "    </tr>\n",
       "  </tbody>\n",
       "</table>\n",
       "</div>"
      ],
      "text/plain": [
       "       client_id       pressure     humidity  wind_direction           rain\n",
       "count     1678.0    1668.000000  1678.000000     1678.000000    1677.000000\n",
       "mean     10101.0  111061.177050  4721.179118      152.473021   80394.888849\n",
       "std          0.0  101565.629728   949.395945      296.495726   46368.228269\n",
       "min      10101.0       1.000000  -699.000000       -3.000000       0.000000\n",
       "25%      10101.0   91031.750000  4474.000000        1.000000   11111.000000\n",
       "50%      10101.0   91175.000000  4563.000000      192.000000  111111.000000\n",
       "75%      10101.0   91272.000000  5657.000000      282.000000  111111.000000\n",
       "max      10101.0  599109.000000  7253.000000    11111.000000  111111.000000"
      ]
     },
     "execution_count": 227,
     "metadata": {},
     "output_type": "execute_result"
    }
   ],
   "source": [
    "df.describe()"
   ]
  },
  {
   "cell_type": "code",
   "execution_count": 228,
   "metadata": {
    "collapsed": false
   },
   "outputs": [],
   "source": [
    "temp = []\n",
    "for i in df.temparature:\n",
    "    a = \"{:4}\".format(i)\n",
    "    b = str(\"{}.{}\".format(a[:2], a[2:]))\n",
    "    temp.append(b)"
   ]
  },
  {
   "cell_type": "code",
   "execution_count": 229,
   "metadata": {
    "collapsed": true
   },
   "outputs": [],
   "source": [
    "df.temparature = pd.Series(temp)"
   ]
  },
  {
   "cell_type": "code",
   "execution_count": 222,
   "metadata": {
    "collapsed": false
   },
   "outputs": [
    {
     "data": {
      "text/html": [
       "<div>\n",
       "<table border=\"1\" class=\"dataframe\">\n",
       "  <thead>\n",
       "    <tr style=\"text-align: right;\">\n",
       "      <th></th>\n",
       "      <th>client_id</th>\n",
       "      <th>date</th>\n",
       "      <th>time</th>\n",
       "      <th>temparature</th>\n",
       "      <th>pressure</th>\n",
       "      <th>humidity</th>\n",
       "      <th>wind_speed</th>\n",
       "      <th>wind_direction</th>\n",
       "      <th>rain</th>\n",
       "    </tr>\n",
       "  </thead>\n",
       "  <tbody>\n",
       "    <tr>\n",
       "      <th>0</th>\n",
       "      <td>10101</td>\n",
       "      <td>2016-10-13</td>\n",
       "      <td>12:48:16</td>\n",
       "      <td>27.47</td>\n",
       "      <td>91061.0</td>\n",
       "      <td>4265.0</td>\n",
       "      <td>1</td>\n",
       "      <td>150.0</td>\n",
       "      <td>111111.0</td>\n",
       "    </tr>\n",
       "    <tr>\n",
       "      <th>1</th>\n",
       "      <td>10101</td>\n",
       "      <td>2016-10-13</td>\n",
       "      <td>12:54:56</td>\n",
       "      <td>27.47</td>\n",
       "      <td>91035.0</td>\n",
       "      <td>4275.0</td>\n",
       "      <td>7.14</td>\n",
       "      <td>40.0</td>\n",
       "      <td>111111.0</td>\n",
       "    </tr>\n",
       "    <tr>\n",
       "      <th>2</th>\n",
       "      <td>10101</td>\n",
       "      <td>2016-10-13</td>\n",
       "      <td>12:57:16</td>\n",
       "      <td>27.47</td>\n",
       "      <td>91044.0</td>\n",
       "      <td>4258.0</td>\n",
       "      <td>8.83</td>\n",
       "      <td>335.0</td>\n",
       "      <td>111111.0</td>\n",
       "    </tr>\n",
       "    <tr>\n",
       "      <th>3</th>\n",
       "      <td>10101</td>\n",
       "      <td>2016-10-13</td>\n",
       "      <td>12:59:26</td>\n",
       "      <td>27.47</td>\n",
       "      <td>91040.0</td>\n",
       "      <td>7253.0</td>\n",
       "      <td>9.38</td>\n",
       "      <td>330.0</td>\n",
       "      <td>111111.0</td>\n",
       "    </tr>\n",
       "    <tr>\n",
       "      <th>4</th>\n",
       "      <td>10101</td>\n",
       "      <td>2016-10-13</td>\n",
       "      <td>13:06:16</td>\n",
       "      <td>27.47</td>\n",
       "      <td>91022.0</td>\n",
       "      <td>4252.0</td>\n",
       "      <td>6.24</td>\n",
       "      <td>185.0</td>\n",
       "      <td>111111.0</td>\n",
       "    </tr>\n",
       "  </tbody>\n",
       "</table>\n",
       "</div>"
      ],
      "text/plain": [
       "   client_id        date      time temparature  pressure  humidity wind_speed  \\\n",
       "0      10101  2016-10-13  12:48:16       27.47   91061.0    4265.0          1   \n",
       "1      10101  2016-10-13  12:54:56       27.47   91035.0    4275.0       7.14   \n",
       "2      10101  2016-10-13  12:57:16       27.47   91044.0    4258.0       8.83   \n",
       "3      10101  2016-10-13  12:59:26       27.47   91040.0    7253.0       9.38   \n",
       "4      10101  2016-10-13  13:06:16       27.47   91022.0    4252.0       6.24   \n",
       "\n",
       "   wind_direction      rain  \n",
       "0           150.0  111111.0  \n",
       "1            40.0  111111.0  \n",
       "2           335.0  111111.0  \n",
       "3           330.0  111111.0  \n",
       "4           185.0  111111.0  "
      ]
     },
     "execution_count": 222,
     "metadata": {},
     "output_type": "execute_result"
    }
   ],
   "source": [
    "df.head(5)"
   ]
  }
 ],
 "metadata": {
  "kernelspec": {
   "display_name": "Python 2",
   "language": "python",
   "name": "python2"
  },
  "language_info": {
   "codemirror_mode": {
    "name": "ipython",
    "version": 2
   },
   "file_extension": ".py",
   "mimetype": "text/x-python",
   "name": "python",
   "nbconvert_exporter": "python",
   "pygments_lexer": "ipython2",
   "version": "2.7.12"
  }
 },
 "nbformat": 4,
 "nbformat_minor": 2
}
