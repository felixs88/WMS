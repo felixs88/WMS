{
 "cells": [
  {
   "cell_type": "code",
   "execution_count": 66,
   "metadata": {
    "collapsed": false,
    "deletable": true,
    "editable": true
   },
   "outputs": [],
   "source": [
    "import requests\n",
    "from collections import defaultdict"
   ]
  },
  {
   "cell_type": "code",
   "execution_count": 82,
   "metadata": {
    "collapsed": false,
    "deletable": true,
    "editable": true
   },
   "outputs": [
    {
     "name": "stdout",
     "output_type": "stream",
     "text": [
      "https://www.theweathernetwork.com/in/api/location/search?searchText=Goa\n"
     ]
    }
   ],
   "source": [
    "base_url = \"https://www.theweathernetwork.com/in/api/location/search?searchText={}\".format(\"Goa\")\n",
    "print base_url"
   ]
  },
  {
   "cell_type": "code",
   "execution_count": 88,
   "metadata": {
    "collapsed": false
   },
   "outputs": [
    {
     "name": "stdout",
     "output_type": "stream",
     "text": [
      "{u'province': u'India', u'code': u'inga0231', u'name': u'Goa', u'countrycode': u'IN', u'url': u'/in/weather/inga0231', u'country': u'India', u'displayCountry': False, u'long': 73.9101, u'gridindex': u'', u'county': u'', u'postalcode': u'', u'province_real': u'Goa', u'distanceKM': u'', u'lat': 15.5019, u'type': u'city', u'provcode': u'GA'}\n",
      "{u'province': u'India', u'code': u'in-ga', u'name': u'Goa', u'countrycode': u'IN', u'url': u'/in/maps/current-weather/goa', u'country': u'India', u'displayCountry': False, u'long': 73.9485189998058, u'gridindex': u'', u'county': u'', u'postalcode': u'', u'province_real': u'Goa', u'distanceKM': u'', u'lat': 15.391267500124, u'type': u'province', u'provcode': u'GA'}\n"
     ]
    }
   ],
   "source": [
    "req = requests.get(base_url)\n",
    "url = req.json()[0]['url']\n",
    "code = req.json()[0]['code']\n",
    "\n",
    "data = req.json()\n",
    "ddict = defaultdict(list)\n",
    "for i in data:\n",
    "    if ddict[i[\"countrycode\"]]:\n",
    "        ddict[i[\"countrycode\"]].append(i)\n",
    "    else:\n",
    "        ddict[i[\"countrycode\"]] = []\n",
    "        ddict[i[\"countrycode\"]].append(i)\n",
    "\n",
    "for k in ddict[\"IN\"]:\n",
    "    if k[\"name\"] == \"Goa\":\n",
    "        print k\n",
    "\n",
    "\n",
    "# info_url = \"https://www.theweathernetwork.com{}\".format(req.json()[0]['url'])[\"IN\"]:\n",
    "\n"
   ]
  },
  {
   "cell_type": "code",
   "execution_count": 79,
   "metadata": {
    "collapsed": true
   },
   "outputs": [],
   "source": [
    "data = \"https://www.theweathernetwork.com/in/api/savedlocation/index/?placecodes=inka1571\""
   ]
  }
 ],
 "metadata": {
  "kernelspec": {
   "display_name": "Python 2",
   "language": "python",
   "name": "python2"
  },
  "language_info": {
   "codemirror_mode": {
    "name": "ipython",
    "version": 2
   },
   "file_extension": ".py",
   "mimetype": "text/x-python",
   "name": "python",
   "nbconvert_exporter": "python",
   "pygments_lexer": "ipython2",
   "version": "2.7.12"
  }
 },
 "nbformat": 4,
 "nbformat_minor": 2
}
