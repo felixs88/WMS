{
 "cells": [
  {
   "cell_type": "code",
   "execution_count": 4,
   "metadata": {
    "collapsed": true
   },
   "outputs": [],
   "source": [
    "city = \"bangalore\""
   ]
  },
  {
   "cell_type": "code",
   "execution_count": 7,
   "metadata": {
    "collapsed": true
   },
   "outputs": [],
   "source": [
    "base_url = \"http://weather.service.msn.com/data.aspx?weasearchstr={}&culture=en-US&weadegreetype=F&src=outlook\".format(city)"
   ]
  },
  {
   "cell_type": "code",
   "execution_count": 8,
   "metadata": {
    "collapsed": false
   },
   "outputs": [
    {
     "name": "stdout",
     "output_type": "stream",
     "text": [
      "http://weather.service.msn.com/data.aspx?weasearchstr=bangalore&culture=en-US&weadegreetype=F&src=outlook\n"
     ]
    }
   ],
   "source": [
    "print base_url"
   ]
  },
  {
   "cell_type": "code",
   "execution_count": 14,
   "metadata": {
    "collapsed": true
   },
   "outputs": [],
   "source": [
    "import requests\n",
    "import xml.etree.ElementTree as ET"
   ]
  },
  {
   "cell_type": "code",
   "execution_count": 29,
   "metadata": {
    "collapsed": false
   },
   "outputs": [
    {
     "name": "stdout",
     "output_type": "stream",
     "text": [
      "{'skycode': '28', 'temperature': '81', 'humidity': '61', 'date': '2017-09-05', 'windspeed': '3 mph', 'observationpoint': 'Bengaluru, India', 'observationtime': '11:30:00', 'shortday': 'Tue', 'feelslike': '83', 'skytext': 'Mostly Cloudy', 'day': 'Tuesday', 'winddisplay': '3 mph Northwest'}\n",
      "{'skytextday': 'Partly Cloudy', 'high': '83', 'date': '2017-09-04', 'precip': '', 'low': '69', 'shortday': 'Mon', 'skycodeday': '29', 'day': 'Monday'}\n",
      "{'skytextday': 'T-Storms', 'high': '82', 'date': '2017-09-05', 'precip': '90', 'low': '70', 'shortday': 'Tue', 'skycodeday': '4', 'day': 'Tuesday'}\n",
      "{'skytextday': 'T-Storms', 'high': '82', 'date': '2017-09-06', 'precip': '90', 'low': '71', 'shortday': 'Wed', 'skycodeday': '4', 'day': 'Wednesday'}\n",
      "{'skytextday': 'T-Storms', 'high': '82', 'date': '2017-09-07', 'precip': '100', 'low': '71', 'shortday': 'Thu', 'skycodeday': '4', 'day': 'Thursday'}\n",
      "{'skytextday': 'Light Rain', 'high': '83', 'date': '2017-09-08', 'precip': '80', 'low': '71', 'shortday': 'Fri', 'skycodeday': '9', 'day': 'Friday'}\n",
      "{'timewindow': '60', 'minversion': '1.0.1965.0'}\n"
     ]
    }
   ],
   "source": [
    "req = requests.get(base_url)\n",
    "root = ET.fromstring(req.content)\n",
    "for child in root:\n",
    "    for siblings in child.__dict__['_children']:\n",
    "        print siblings.__dict__['attrib']"
   ]
  }
 ],
 "metadata": {
  "kernelspec": {
   "display_name": "Python 2",
   "language": "python",
   "name": "python2"
  },
  "language_info": {
   "codemirror_mode": {
    "name": "ipython",
    "version": 2
   },
   "file_extension": ".py",
   "mimetype": "text/x-python",
   "name": "python",
   "nbconvert_exporter": "python",
   "pygments_lexer": "ipython2",
   "version": "2.7.12"
  }
 },
 "nbformat": 4,
 "nbformat_minor": 2
}
